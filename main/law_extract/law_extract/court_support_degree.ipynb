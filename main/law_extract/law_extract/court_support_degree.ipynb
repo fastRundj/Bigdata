{
 "cells": [
  {
   "cell_type": "code",
   "execution_count": 1,
   "metadata": {
    "collapsed": true
   },
   "outputs": [],
   "source": [
    "#-*-coding:utf8-*-\n",
    "import pandas as pd\n",
    "import numpy as np\n",
    "import sys\n",
    "reload(sys)"
   ]
  },
  {
   "cell_type": "code",
   "execution_count": 12,
   "metadata": {
    "collapsed": true
   },
   "outputs": [],
   "source": [
    "des_path = '/media/sherlock/new30/law/jun28InfoExtractor/tb_doc_add3.csv'\n",
    "law_df = pd.read_csv(des_path)\n",
    "law_df.info()"
   ]
  },
  {
   "cell_type": "code",
   "execution_count": 26,
   "metadata": {},
   "outputs": [],
   "source": [
    "for i in law_df.iloc[12]:print i"
   ]
  },
  {
   "cell_type": "code",
   "execution_count": 19,
   "metadata": {},
   "outputs": [],
   "source": [
    "print law_df.loc[6,'court_find']"
   ]
  },
  {
   "cell_type": "code",
   "execution_count": 22,
   "metadata": {
    "scrolled": true
   },
   "outputs": [
    {
     "data": {
      "text/plain": [
       "id                                                                   9\n",
       "uuid                              cad6c70a-b93c-4436-9eea-f796a5d954ba\n",
       "caseid                                               （2016）苏0104刑初471号\n",
       "title                                                  被告人王某盗窃罪一审刑事判决书\n",
       "doc_reason                                             {\"王某\": [\"盗窃罪\"]}\n",
       "doc_oriligigation                                          南京市秦淮区人民检察院\n",
       "fact_finder                                                        杨中华\n",
       "court                                                       南京市秦淮区人民法院\n",
       "lawlist              [\"《中华人民共和国刑法》第二百六十四条\", \"《中华人民共和国刑法》第六十五条第一款\", ...\n",
       "record_time                                                 2016-06-16\n",
       "casedate                                                    2016-06-22\n",
       "timeline             [[\"2016-06-16\", \"起诉\"], [\"2016-06-16\", \"立案\"], [...\n",
       "party_info           公诉机关南京市秦淮区人民检察院。\\n被告人王某，男，1975年11月18日出生，汉族，无业。...\n",
       "defendant                                                          NaN\n",
       "plaintiff                                                          NaN\n",
       "third                                                              NaN\n",
       "trial_process        南京市秦淮区人民检察院以宁秦检诉刑诉（2016）430号起诉书指控被告人王某犯盗窃罪，于20...\n",
       "trial_request        南京市秦淮区人民检察院指控，2015年5月26日凌晨5时许，被告人王某与厉昊翔（另案处理）在...\n",
       "trial_reply                                                        NaN\n",
       "court_find           上述事实，被告人王某在开庭审理过程中亦无异议，且有被害人严某等人的陈述、销售凭证、价格鉴证结...\n",
       "court_idea           本院认为，被告人王某以非法占有为目的，秘密窃取他人财物，数额较大，其行为已构成盗窃罪，依法应...\n",
       "judge_result         一、被告人王某犯盗窃罪，判处有期徒刑六个月，罚金人民币二千元。\\n（刑期从判决执行之日起计算...\n",
       "judge_chief                                                        NaN\n",
       "judge_member                                                        刘娟\n",
       "history                                                            NaN\n",
       "type                                                                一审\n",
       "reason_type                                                         刑事\n",
       "judge_type                                                         判决书\n",
       "result_type                                                        NaN\n",
       "doc_content          &lt;a type=&#x27;dir&#x27; name=&#x27;WBSB&#x2...\n",
       "update_time                                         2017/6/27 17:36:55\n",
       "doc_from                                                    wenshu-gov\n",
       "reason                                                              盗窃\n",
       "is_crawl                                                             1\n",
       "is_format                                                            1\n",
       "gender                                                              男 \n",
       "edu                                                                NaN\n",
       "nation                                                             汉族 \n",
       "birth                                                     1975年11月18日 \n",
       "suspect_num                                                          1\n",
       "native_place                                              南京市秦淮区南京市秦淮 \n",
       "Name: 8, dtype: object"
      ]
     },
     "execution_count": 22,
     "metadata": {},
     "output_type": "execute_result"
    }
   ],
   "source": [
    "law_df.iloc[8]"
   ]
  },
  {
   "cell_type": "code",
   "execution_count": null,
   "metadata": {
    "collapsed": true
   },
   "outputs": [],
   "source": []
  }
 ],
 "metadata": {
  "kernelspec": {
   "display_name": "Python 2",
   "language": "python",
   "name": "python2"
  },
  "language_info": {
   "codemirror_mode": {
    "name": "ipython",
    "version": 2
   },
   "file_extension": ".py",
   "mimetype": "text/x-python",
   "name": "python",
   "nbconvert_exporter": "python",
   "pygments_lexer": "ipython2",
   "version": "2.7.6"
  }
 },
 "nbformat": 4,
 "nbformat_minor": 2
}
