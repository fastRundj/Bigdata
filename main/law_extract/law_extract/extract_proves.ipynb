{
 "cells": [
  {
   "cell_type": "code",
   "execution_count": 1,
   "metadata": {
    "collapsed": true
   },
   "outputs": [],
   "source": [
    "#-*-coding:utf8-*-"
   ]
  },
  {
   "cell_type": "code",
   "execution_count": 2,
   "metadata": {
    "collapsed": true
   },
   "outputs": [],
   "source": [
    "import pandas as pd\n",
    "import numpy as np\n",
    "import sys\n",
    "reload(sys)"
   ]
  },
  {
   "cell_type": "code",
   "execution_count": 3,
   "metadata": {
    "collapsed": true
   },
   "outputs": [],
   "source": [
    "sys.setdefaultencoding('utf8')"
   ]
  },
  {
   "cell_type": "code",
   "execution_count": 4,
   "metadata": {
    "collapsed": true
   },
   "outputs": [],
   "source": [
    "from pyltp import Segmentor\n",
    "from pyltp import Postagger\n",
    "from pyltp import NamedEntityRecognizer"
   ]
  },
  {
   "cell_type": "code",
   "execution_count": 5,
   "metadata": {
    "collapsed": true
   },
   "outputs": [],
   "source": [
    "import re "
   ]
  },
  {
   "cell_type": "code",
   "execution_count": 6,
   "metadata": {
    "collapsed": true
   },
   "outputs": [],
   "source": [
    "segmentor = Segmentor()  # 初始化实例\n",
    "segmentor.load('/home/sherlock/Documents/ltp_data/cws.model')\n",
    "#实例化词性工具\n",
    "postagger = Postagger() # 初始化实例\n",
    "postagger.load('/home/sherlock/Documents/ltp_data/pos.model')  # 加载模型\n",
    "recognizer = NamedEntityRecognizer()\n",
    "recognizer.load('/home/sherlock/Documents/ltp_data/ner.model')"
   ]
  },
  {
   "cell_type": "code",
   "execution_count": 25,
   "metadata": {
    "collapsed": true
   },
   "outputs": [],
   "source": [
    "def wdseg(inputstr,ret_type):\n",
    "\n",
    "\n",
    "    words = segmentor.segment(inputstr)  # 分词\n",
    "    if ret_type == 'str':\n",
    "        seg_word = ' '.join(words)\n",
    "    if ret_type == 'lst':\n",
    "        seg_word = ' '.join(words)\n",
    "        seg_word = seg_word.split()\n",
    "\n",
    "    #segmentor.release()  # 释放模型\n",
    "    return seg_word"
   ]
  },
  {
   "cell_type": "code",
   "execution_count": 10,
   "metadata": {
    "collapsed": true
   },
   "outputs": [],
   "source": [
    "def pos_list(seg_words):\n",
    "    postags = postagger.postag(seg_words)\n",
    "    pos_list = '\\t'.join(postags).split('\\t')\n",
    "    return pos_list\n",
    "    "
   ]
  },
  {
   "cell_type": "code",
   "execution_count": 11,
   "metadata": {
    "collapsed": true
   },
   "outputs": [],
   "source": [
    "def pos_filter(tofilt_pos,seg_words):\n",
    "    print 'type segwords',type(seg_words)\n",
    "    postags = postagger.postag(seg_words)\n",
    "    pos_list = '\\t'.join(postags).split('\\t')\n",
    "    print pos_list\n",
    "    for i,pos in enumerate(pos_list):\n",
    "        if tofilt_pos in pos:\n",
    "            print '11'\n",
    "            print seg_words\n",
    "            seg_words = seg_words.pop(i)\n",
    "    return seg_words\n",
    "            \n",
    "    "
   ]
  },
  {
   "cell_type": "code",
   "execution_count": 12,
   "metadata": {
    "collapsed": true
   },
   "outputs": [],
   "source": [
    "list1 =[1,2,4]"
   ]
  },
  {
   "cell_type": "code",
   "execution_count": 13,
   "metadata": {},
   "outputs": [
    {
     "data": {
      "text/plain": [
       "4"
      ]
     },
     "execution_count": 13,
     "metadata": {},
     "output_type": "execute_result"
    }
   ],
   "source": [
    "list1.pop(2)"
   ]
  },
  {
   "cell_type": "code",
   "execution_count": 14,
   "metadata": {},
   "outputs": [
    {
     "data": {
      "text/plain": [
       "[1, 2]"
      ]
     },
     "execution_count": 14,
     "metadata": {},
     "output_type": "execute_result"
    }
   ],
   "source": [
    "list1"
   ]
  },
  {
   "cell_type": "code",
   "execution_count": 15,
   "metadata": {
    "collapsed": true
   },
   "outputs": [],
   "source": [
    "des_path = '/media/sherlock/new30/law/jun28InfoExtractor/tb_doc_add3.csv'"
   ]
  },
  {
   "cell_type": "code",
   "execution_count": 16,
   "metadata": {
    "scrolled": true
   },
   "outputs": [
    {
     "data": {
      "text/plain": [
       "id                                                                   3\n",
       "uuid                              1824f1ec-0184-43b6-a5cb-f6821d3afb99\n",
       "caseid                                              （2016）京0108刑初1421号\n",
       "title                                                       李进果危险驾驶罪一案\n",
       "doc_reason                                           {\"李×\": [\"危险驾驶罪\"]}\n",
       "doc_oriligigation                                          北京市海淀区人民检察院\n",
       "fact_finder                                                        NaN\n",
       "court                                                       北京市海淀区人民法院\n",
       "lawlist              [\"《中华人民共和国刑法》第一百三十三条之一第一款第（二）项\", \"《中华人民共和国刑法》第...\n",
       "record_time                                                 2016-07-21\n",
       "casedate                                                    2016-07-21\n",
       "timeline             [[\"2016-07-21\", \"立案\"], [\"2016-07-21\", \"审理\"], [...\n",
       "party_info                    公诉机关北京市海淀区人民检察院。\\n被告人李×，男，1977年9月5日出生。\\n\n",
       "defendant                                                          NaN\n",
       "plaintiff                                                          NaN\n",
       "third                                                              NaN\n",
       "trial_process        公诉机关以京海检公诉刑诉[2016]1235号起诉书指控被告人李×犯危险驾驶罪。本院适用刑事...\n",
       "trial_request        公诉机关指控：2016年7月10日22时许，被告人李×饮酒后驾驶一辆小型轿车（车牌号：×××...\n",
       "trial_reply                  被告人李×对指控事实、罪名及量刑建议没有异议并签字具结，在开庭审理过程中亦无异议。\n",
       "court_find                                                         NaN\n",
       "court_idea           本院认为，公诉机关指控被告人李×犯危险驾驶罪的事实清楚，证据确实充分，指控罪名成立，量刑建议...\n",
       "judge_result         被告人李×犯危险驾驶罪，判处拘役一个月，罚金人民币二千元。\\n（刑期自2016年7月10日起...\n",
       "judge_chief                                                        NaN\n",
       "judge_member                                                        郭照\n",
       "history                                                            NaN\n",
       "type                                                                一审\n",
       "reason_type                                                         刑事\n",
       "judge_type                                                         判决书\n",
       "result_type                                                        NaN\n",
       "doc_content          &lt;a type=&#x27;dir&#x27; name=&#x27;WBSB&#x2...\n",
       "update_time                                         2017/6/27 17:36:55\n",
       "doc_from                                                    wenshu-gov\n",
       "reason                                                            危险驾驶\n",
       "is_crawl                                                             1\n",
       "is_format                                                            1\n",
       "gender                                                              男 \n",
       "edu                                                                NaN\n",
       "nation                                                             NaN\n",
       "birth                                                       1977年9月5日 \n",
       "suspect_num                                                          1\n",
       "native_place                                                          \n",
       "year_age                                                            39\n",
       "team_crmnl                                                           0\n",
       "adult                                                                1\n",
       "Name: 2, dtype: object"
      ]
     },
     "execution_count": 16,
     "metadata": {},
     "output_type": "execute_result"
    }
   ],
   "source": [
    "add3_law_df = pd.read_csv(des_path)\n",
    "add3_law_df.iloc[2]"
   ]
  },
  {
   "cell_type": "code",
   "execution_count": 17,
   "metadata": {
    "collapsed": true
   },
   "outputs": [],
   "source": [
    "print add3_law_df.loc[8,'court_find']"
   ]
  },
  {
   "cell_type": "code",
   "execution_count": 18,
   "metadata": {
    "collapsed": true
   },
   "outputs": [],
   "source": [
    "for i in add3_law_df.iloc[1]: print i # the proves was in the court_find"
   ]
  },
  {
   "cell_type": "code",
   "execution_count": 19,
   "metadata": {
    "collapsed": true,
    "scrolled": true
   },
   "outputs": [],
   "source": [
    "test_courtfind = add3_law_df.loc[1,'court_find']"
   ]
  },
  {
   "cell_type": "code",
   "execution_count": 20,
   "metadata": {
    "collapsed": true
   },
   "outputs": [],
   "source": [
    "for i in range (40,60):\n",
    "    print '##############',i\n",
    "    print add3_law_df.loc[i,'court_find']"
   ]
  },
  {
   "cell_type": "code",
   "execution_count": 26,
   "metadata": {
    "collapsed": true
   },
   "outputs": [],
   "source": [
    "info_words = wdseg(add3_law_df.loc[8,'court_find'],'lst')"
   ]
  },
  {
   "cell_type": "code",
   "execution_count": 27,
   "metadata": {},
   "outputs": [
    {
     "data": {
      "text/plain": [
       "list"
      ]
     },
     "execution_count": 27,
     "metadata": {},
     "output_type": "execute_result"
    }
   ],
   "source": [
    "type(info_words)"
   ]
  },
  {
   "cell_type": "code",
   "execution_count": 28,
   "metadata": {
    "collapsed": true
   },
   "outputs": [],
   "source": [
    "pos_list = pos_list(info_words)"
   ]
  },
  {
   "cell_type": "code",
   "execution_count": 29,
   "metadata": {
    "collapsed": true
   },
   "outputs": [],
   "source": [
    "for ii in info_words:print ii"
   ]
  },
  {
   "cell_type": "code",
   "execution_count": 38,
   "metadata": {
    "collapsed": true
   },
   "outputs": [],
   "source": [
    "print add3_law_df.loc[8,'court_find']"
   ]
  },
  {
   "cell_type": "markdown",
   "metadata": {
    "collapsed": true
   },
   "source": [
    "- 分词函数\n",
    "- 找出‘证据‘所在位置\n",
    "- 找出证据idx +-3的位置\n",
    "- 判断正负3的位置有没有特定的符号\n",
    "- 如果是，。则前面split('、')或者('，') 直到'有'出现\n",
    "- 如果是：则提取冒号之后，如果有顿号，按照顿号split。如果之后没有顿号，查找前面有没有顿号，有则按照顿号分割，如果前面是一个标点加数字。则提取前面的字段"
   ]
  },
  {
   "cell_type": "code",
   "execution_count": 31,
   "metadata": {
    "collapsed": true
   },
   "outputs": [],
   "source": [
    "def find_prv_idx(target_word_str,seg_word_list):\n",
    "    for idx,ww in enumerate(seg_word_list):\n",
    "        if target_word_str in ww:\n",
    "            print idx\n",
    "            return idx"
   ]
  },
  {
   "cell_type": "code",
   "execution_count": 42,
   "metadata": {
    "collapsed": true
   },
   "outputs": [],
   "source": [
    "new_info_w = pos_filter('nh',info_words) #去除人名"
   ]
  },
  {
   "cell_type": "code",
   "execution_count": null,
   "metadata": {
    "collapsed": true
   },
   "outputs": [],
   "source": []
  },
  {
   "cell_type": "code",
   "execution_count": 43,
   "metadata": {
    "collapsed": true
   },
   "outputs": [],
   "source": [
    "for nn in new_info_w:print nn"
   ]
  },
  {
   "cell_type": "code",
   "execution_count": 44,
   "metadata": {},
   "outputs": [
    {
     "data": {
      "text/plain": [
       "43"
      ]
     },
     "execution_count": 44,
     "metadata": {},
     "output_type": "execute_result"
    }
   ],
   "source": [
    "prv_idx = int(find_prv_idx('证据',new_info_w))\n",
    "prv_idx"
   ]
  },
  {
   "cell_type": "code",
   "execution_count": 58,
   "metadata": {},
   "outputs": [
    {
     "data": {
      "text/plain": [
       "14"
      ]
     },
     "execution_count": 58,
     "metadata": {},
     "output_type": "execute_result"
    }
   ],
   "source": [
    "you_idx = int(find_prv_idx('有',new_info_w))\n",
    "you_idx"
   ]
  },
  {
   "cell_type": "code",
   "execution_count": 31,
   "metadata": {},
   "outputs": [
    {
     "data": {
      "text/plain": [
       "1"
      ]
     },
     "execution_count": 31,
     "metadata": {},
     "output_type": "execute_result"
    }
   ],
   "source": [
    "list1.index(2)"
   ]
  },
  {
   "cell_type": "code",
   "execution_count": 52,
   "metadata": {
    "collapsed": true
   },
   "outputs": [],
   "source": [
    "print test_courtfind"
   ]
  },
  {
   "cell_type": "code",
   "execution_count": 45,
   "metadata": {},
   "outputs": [
    {
     "data": {
      "text/plain": [
       "int"
      ]
     },
     "execution_count": 45,
     "metadata": {},
     "output_type": "execute_result"
    }
   ],
   "source": [
    "type(prv_idx)"
   ]
  },
  {
   "cell_type": "code",
   "execution_count": 47,
   "metadata": {},
   "outputs": [
    {
     "data": {
      "text/plain": [
       "[43, 44, 45, 46]"
      ]
     },
     "execution_count": 47,
     "metadata": {},
     "output_type": "execute_result"
    }
   ],
   "source": [
    "prv_sgl_range = range(prv_idx,prv_idx+4)\n",
    "prv_sgl_range"
   ]
  },
  {
   "cell_type": "code",
   "execution_count": 49,
   "metadata": {
    "collapsed": true
   },
   "outputs": [],
   "source": [
    "comma = '，'\n",
    "peroid = '。'\n",
    "dunhao = '、'\n",
    "colon = ':'"
   ]
  },
  {
   "cell_type": "code",
   "execution_count": 50,
   "metadata": {
    "collapsed": true
   },
   "outputs": [],
   "source": [
    "from collections import Counter"
   ]
  },
  {
   "cell_type": "code",
   "execution_count": 55,
   "metadata": {},
   "outputs": [
    {
     "data": {
      "text/plain": [
       "0"
      ]
     },
     "execution_count": 55,
     "metadata": {},
     "output_type": "execute_result"
    }
   ],
   "source": [
    "you_idx=[]\n",
    "len(you_idx)"
   ]
  },
  {
   "cell_type": "code",
   "execution_count": 57,
   "metadata": {
    "collapsed": true
   },
   "outputs": [
    {
     "data": {
      "text/plain": [
       "['\\xe4\\xb8\\x8a\\xe8\\xbf\\xb0',\n",
       " '\\xe4\\xba\\x8b\\xe5\\xae\\x9e',\n",
       " '\\xef\\xbc\\x8c',\n",
       " '\\xe8\\xa2\\xab\\xe5\\x91\\x8a\\xe4\\xba\\xba',\n",
       " '\\xe5\\x9c\\xa8',\n",
       " '\\xe5\\xbc\\x80\\xe5\\xba\\xad',\n",
       " '\\xe5\\xae\\xa1\\xe7\\x90\\x86',\n",
       " '\\xe8\\xbf\\x87\\xe7\\xa8\\x8b',\n",
       " '\\xe4\\xb8\\xad',\n",
       " '\\xe4\\xba\\xa6',\n",
       " '\\xe6\\x97\\xa0',\n",
       " '\\xe5\\xbc\\x82\\xe8\\xae\\xae',\n",
       " '\\xef\\xbc\\x8c',\n",
       " '\\xe4\\xb8\\x94',\n",
       " '\\xe6\\x9c\\x89',\n",
       " '\\xe8\\xa2\\xab\\xe5\\xae\\xb3\\xe4\\xba\\xba',\n",
       " '\\xe7\\xad\\x89',\n",
       " '\\xe4\\xba\\xba',\n",
       " '\\xe7\\x9a\\x84',\n",
       " '\\xe9\\x99\\x88\\xe8\\xbf\\xb0',\n",
       " '\\xe3\\x80\\x81',\n",
       " '\\xe9\\x94\\x80\\xe5\\x94\\xae',\n",
       " '\\xe5\\x87\\xad\\xe8\\xaf\\x81',\n",
       " '\\xe3\\x80\\x81',\n",
       " '\\xe4\\xbb\\xb7\\xe6\\xa0\\xbc',\n",
       " '\\xe9\\x89\\xb4\\xe8\\xaf\\x81',\n",
       " '\\xe7\\xbb\\x93\\xe8\\xae\\xba\\xe4\\xb9\\xa6',\n",
       " '\\xe3\\x80\\x81',\n",
       " '\\xe8\\xbe\\xa8\\xe8\\xae\\xa4',\n",
       " '\\xe7\\xac\\x94\\xe5\\xbd\\x95',\n",
       " '\\xe3\\x80\\x81',\n",
       " '\\xe8\\xa7\\x86\\xe5\\x90\\xac',\n",
       " '\\xe8\\xb5\\x84\\xe6\\x96\\x99',\n",
       " '\\xe3\\x80\\x81',\n",
       " '\\xe5\\x89\\x8d\\xe7\\xa7\\x91',\n",
       " '\\xe6\\x9d\\x90\\xe6\\x96\\x99',\n",
       " '\\xe3\\x80\\x81',\n",
       " '\\xe6\\x8a\\x93\\xe8\\x8e\\xb7',\n",
       " '\\xe7\\xbb\\x8f\\xe8\\xbf\\x87',\n",
       " '\\xe3\\x80\\x81',\n",
       " '\\xe6\\x88\\xb7\\xe7\\xb1\\x8d',\n",
       " '\\xe8\\xb5\\x84\\xe6\\x96\\x99',\n",
       " '\\xe7\\xad\\x89']"
      ]
     },
     "execution_count": 57,
     "metadata": {},
     "output_type": "execute_result"
    }
   ],
   "source": [
    "prv_word_lst = new_info_w[you_idx:prv_idx] if len(you_idx) >0 else new_info_w[:prv_idx]\n",
    "prv_word_lst"
   ]
  },
  {
   "cell_type": "code",
   "execution_count": 52,
   "metadata": {
    "collapsed": true
   },
   "outputs": [],
   "source": [
    "prv_word_lst = new_info_w[you_idx:prv_idx] if len(you_idx) >0 else new_info_w[:prv_idx]\n",
    "if comma or peroid in prv_word_lst:\n",
    "    #prv_word_lst = new_info_w[you_idx:prv_idx]\n",
    "    print 'in '\n",
    "    dun_count = 0\n",
    "    comma_count =0\n",
    "        \n",
    "    prv_str =''\n",
    "    for i,w in enumerate(prv_word_lst):\n",
    "        if comma in w:\n",
    "            comma_count +=1\n",
    "        if dunhao in w:\n",
    "            dun_count +=1\n",
    "        prv_seg_list =[]\n",
    "        prv_str = ''.join(prv_word_lst)\n",
    "        if dun_count >= comma_count:\n",
    "            prv_seg_list = prv_str.split('、')\n",
    "        else:\n",
    "            prv_seg_list = prv_str.split('，')\n",
    "        for i,v in enumerate(prv_seg_list):\n",
    "            if '的' in v:\n",
    "                todelete_words = wdseg(v,'lst')\n",
    "                de_index = todelete_words.index('的')\n",
    "                remain_words = todelete_words[de_index:]\n",
    "                prv_seg_list[i] =remain_words\n",
    "                \n",
    "                \n",
    "    print prv_str\n",
    "    print '1'"
   ]
  },
  {
   "cell_type": "code",
   "execution_count": 90,
   "metadata": {
    "collapsed": true
   },
   "outputs": [],
   "source": [
    "def split_by_punc(prv_wrod_list):\n",
    "    dun_count =0\n",
    "    comma_count=0\n",
    "    prv_str =''\n",
    "    for i,w in enumerate(prv_word_lst):\n",
    "        if comma in w:\n",
    "            comma_count +=1\n",
    "        if dunhao in w:\n",
    "            dun_count +=1\n",
    "        prv_seg_list =[]\n",
    "        prv_str = ''.join(prv_word_lst)\n",
    "        if dun_count >= comma_count:\n",
    "            prv_seg_list = prv_str.split('、')\n",
    "        else:\n",
    "            prv_seg_list = prv_str.split('，')\n",
    "        for i,v in enumerate(prv_seg_list):\n",
    "            if '的' in v:\n",
    "                todelete_words = wdseg(v,'lst')\n",
    "                de_index = todelete_words.index('的')\n",
    "                remain_words = todelete_words[de_index:]\n",
    "                prv_seg_list[i] =remain_words\n",
    "                \n",
    "                \n",
    "    return prv_str\n",
    "    \n",
    "    "
   ]
  },
  {
   "cell_type": "code",
   "execution_count": 91,
   "metadata": {
    "collapsed": true
   },
   "outputs": [],
   "source": [
    "prv_word_lst = new_info_w[you_idx:prv_idx]\n",
    "prv_str = split_by_punc(prv_word_lst)\n",
    "print prv_str"
   ]
  },
  {
   "cell_type": "code",
   "execution_count": 99,
   "metadata": {
    "collapsed": true
   },
   "outputs": [],
   "source": [
    "for i in prv_seg_list: print i "
   ]
  },
  {
   "cell_type": "code",
   "execution_count": 97,
   "metadata": {},
   "outputs": [
    {
     "data": {
      "text/plain": [
       "list"
      ]
     },
     "execution_count": 97,
     "metadata": {},
     "output_type": "execute_result"
    }
   ],
   "source": [
    "type(prv_seg_list)"
   ]
  },
  {
   "cell_type": "code",
   "execution_count": 103,
   "metadata": {},
   "outputs": [
    {
     "data": {
      "text/plain": [
       "58"
      ]
     },
     "execution_count": 103,
     "metadata": {},
     "output_type": "execute_result"
    }
   ],
   "source": [
    "prv_idx"
   ]
  },
  {
   "cell_type": "code",
   "execution_count": 73,
   "metadata": {},
   "outputs": [
    {
     "data": {
      "text/plain": [
       "['wp', 'd', 'v', 'wp']"
      ]
     },
     "execution_count": 73,
     "metadata": {},
     "output_type": "execute_result"
    }
   ],
   "source": [
    "pos_sgl_range = pos_list[prv_idx+4:prv_idx+8]\n",
    "pos_sgl_range"
   ]
  },
  {
   "cell_type": "code",
   "execution_count": 95,
   "metadata": {
    "collapsed": true
   },
   "outputs": [],
   "source": [
    "def get_prd_index(info_seg_list):\n",
    "        prd_idx = [idx for idx,v in enumerate(info_seg_list) if v =='。' ]\n",
    "        return prd_idx"
   ]
  },
  {
   "cell_type": "code",
   "execution_count": 96,
   "metadata": {
    "collapsed": true
   },
   "outputs": [],
   "source": [
    "prd_idx = get_prd_index(info_words)"
   ]
  },
  {
   "cell_type": "code",
   "execution_count": 97,
   "metadata": {},
   "outputs": [
    {
     "data": {
      "text/plain": [
       "[48]"
      ]
     },
     "execution_count": 97,
     "metadata": {},
     "output_type": "execute_result"
    }
   ],
   "source": [
    "prd_idx"
   ]
  },
  {
   "cell_type": "code",
   "execution_count": 100,
   "metadata": {
    "collapsed": true
   },
   "outputs": [],
   "source": [
    "def get_colon_index(info_seg_list):\n",
    "        colon_idx = [idx for idx,v in enumerate(info_seg_list) if v =='：' ]\n",
    "        return colon_idx"
   ]
  },
  {
   "cell_type": "code",
   "execution_count": 102,
   "metadata": {},
   "outputs": [
    {
     "data": {
      "text/plain": [
       "[]"
      ]
     },
     "execution_count": 102,
     "metadata": {},
     "output_type": "execute_result"
    }
   ],
   "source": [
    "colon_idx = get_colon_index(info_words)\n",
    "colon_idx"
   ]
  },
  {
   "cell_type": "code",
   "execution_count": 92,
   "metadata": {},
   "outputs": [
    {
     "ename": "IndentationError",
     "evalue": "expected an indented block (<ipython-input-92-7fbf0e0252c6>, line 20)",
     "output_type": "error",
     "traceback": [
      "\u001b[0;36m  File \u001b[0;32m\"<ipython-input-92-7fbf0e0252c6>\"\u001b[0;36m, line \u001b[0;32m20\u001b[0m\n\u001b[0;31m    break\u001b[0m\n\u001b[0m        ^\u001b[0m\n\u001b[0;31mIndentationError\u001b[0m\u001b[0;31m:\u001b[0m expected an indented block\n"
     ]
    }
   ],
   "source": [
    "pos_sgl_range = pos_list[prv_idx,prv_idx+7]\n",
    "if colon in prv_sgl_range:\n",
    "    if 'm' in pos_sgl_range:\n",
    "        number_index =pos_sgl_range.index('m')\n",
    "        pp_start_idx = prv_idx + number_index\n",
    "        for dd,pp in enumerate(pos_list[pp_start_idx:]):\n",
    "            if pp=='wp':\n",
    "                fst_end_pnt = dd+pp_start_idx\n",
    "                colon_title_list =  info_words[pp_start_idx:fst_end_pnt]\n",
    "            \n",
    "                if dunhao or comma in colon_title_list:\n",
    "                    prv_str = split_by_punc(colon_title_list)\n",
    "                    print prv_str\n",
    "                \n",
    "                #split the next\n",
    "                \n",
    "                elif colon in colon_title_list:\n",
    "                    for dd_in,pp_in in enumerate(pos_list[fst_end_pnt:]):\n",
    "                        if peroid in pp_in:\n",
    "                            in_word_list = info_words[fst_end_pnt:fst_end_pnt+]\n",
    "                            prv_str_in = split_by_punc(in_word_list)\n",
    "                            print prv_str_in\n",
    "                            \n",
    "                            #选出冒号的idx,再两者之间循环这个。\n",
    "                    \n",
    "                #split the info_words\n",
    "                break\n",
    "        if info_words[pp_start_idx:fst_end_pnt]:\n",
    "        \n",
    "    \n",
    "    #if number just after the colon index ,if between the number and the right after punction ,"
   ]
  },
  {
   "cell_type": "code",
   "execution_count": 59,
   "metadata": {
    "collapsed": true
   },
   "outputs": [],
   "source": [
    "test_sgl_list =['m','n','m']"
   ]
  },
  {
   "cell_type": "code",
   "execution_count": 60,
   "metadata": {},
   "outputs": [
    {
     "data": {
      "text/plain": [
       "0"
      ]
     },
     "execution_count": 60,
     "metadata": {},
     "output_type": "execute_result"
    }
   ],
   "source": [
    "test_sgl_list.index('m')"
   ]
  },
  {
   "cell_type": "code",
   "execution_count": 89,
   "metadata": {
    "collapsed": true
   },
   "outputs": [],
   "source": [
    "test_idx_lst1=[2,3,5,7]"
   ]
  },
  {
   "cell_type": "code",
   "execution_count": 80,
   "metadata": {
    "collapsed": true
   },
   "outputs": [],
   "source": [
    "test_idx_lst2 =[1,4]"
   ]
  },
  {
   "cell_type": "code",
   "execution_count": 81,
   "metadata": {
    "collapsed": true
   },
   "outputs": [],
   "source": [
    "import numpy as np"
   ]
  },
  {
   "cell_type": "code",
   "execution_count": 82,
   "metadata": {
    "collapsed": true
   },
   "outputs": [],
   "source": [
    "new_sort_list =[]\n",
    "for i in test_idx_lst2:\n",
    "    idx_int = np.searchsorted(test_idx_lst1,i)\n",
    "    range_tuple = (test_idx_lst1[idx_int-1],i)\n",
    "    new_sorted_list2 = new_sort_list.append(range_tuple)"
   ]
  },
  {
   "cell_type": "code",
   "execution_count": 68,
   "metadata": {},
   "outputs": [
    {
     "data": {
      "text/plain": [
       "2"
      ]
     },
     "execution_count": 68,
     "metadata": {},
     "output_type": "execute_result"
    }
   ],
   "source": [
    "test_idx_lst"
   ]
  },
  {
   "cell_type": "code",
   "execution_count": 83,
   "metadata": {},
   "outputs": [
    {
     "data": {
      "text/plain": [
       "[(7, 1), (3, 4)]"
      ]
     },
     "execution_count": 83,
     "metadata": {},
     "output_type": "execute_result"
    }
   ],
   "source": [
    "new_sort_list"
   ]
  },
  {
   "cell_type": "code",
   "execution_count": 90,
   "metadata": {
    "collapsed": true
   },
   "outputs": [],
   "source": [
    "test_idx_lst1=[2,3,5,7]\n",
    "#new_test_idx_1 =test_idx_lst1.pop(2)\n",
    "del test_idx_lst1[2]"
   ]
  },
  {
   "cell_type": "code",
   "execution_count": 91,
   "metadata": {},
   "outputs": [
    {
     "data": {
      "text/plain": [
       "[2, 3, 7]"
      ]
     },
     "execution_count": 91,
     "metadata": {},
     "output_type": "execute_result"
    }
   ],
   "source": [
    "test_idx_lst1"
   ]
  },
  {
   "cell_type": "code",
   "execution_count": 92,
   "metadata": {},
   "outputs": [
    {
     "data": {
      "text/plain": [
       "list"
      ]
     },
     "execution_count": 92,
     "metadata": {},
     "output_type": "execute_result"
    }
   ],
   "source": [
    "type([])"
   ]
  },
  {
   "cell_type": "code",
   "execution_count": 93,
   "metadata": {},
   "outputs": [
    {
     "ename": "NameError",
     "evalue": "name 'test_id_lst1' is not defined",
     "output_type": "error",
     "traceback": [
      "\u001b[0;31m---------------------------------------------------------------------------\u001b[0m",
      "\u001b[0;31mNameError\u001b[0m                                 Traceback (most recent call last)",
      "\u001b[0;32m<ipython-input-93-f26ad2a41d20>\u001b[0m in \u001b[0;36m<module>\u001b[0;34m()\u001b[0m\n\u001b[0;32m----> 1\u001b[0;31m \u001b[0mtest_id_lst1\u001b[0m\u001b[0;34m.\u001b[0m\u001b[0mremove\u001b[0m\u001b[0;34m(\u001b[0m\u001b[0;36m1\u001b[0m\u001b[0;34m)\u001b[0m\u001b[0;34m\u001b[0m\u001b[0m\n\u001b[0m",
      "\u001b[0;31mNameError\u001b[0m: name 'test_id_lst1' is not defined"
     ]
    }
   ],
   "source": [
    "test_idx_lst1.remove"
   ]
  },
  {
   "cell_type": "code",
   "execution_count": 94,
   "metadata": {},
   "outputs": [
    {
     "data": {
      "text/plain": [
       "['hi', 'hai']"
      ]
     },
     "execution_count": 94,
     "metadata": {},
     "output_type": "execute_result"
    }
   ],
   "source": [
    "l = ['hi', 'hello', 'hey', 'hai']\n",
    "indexes = {1, 2}\n",
    "[j for i, j in enumerate(l) if i not in indexes]"
   ]
  },
  {
   "cell_type": "code",
   "execution_count": 96,
   "metadata": {
    "collapsed": true
   },
   "outputs": [],
   "source": [
    "indexes.add(3)"
   ]
  },
  {
   "cell_type": "code",
   "execution_count": 97,
   "metadata": {},
   "outputs": [
    {
     "data": {
      "text/plain": [
       "{1, 2, 3}"
      ]
     },
     "execution_count": 97,
     "metadata": {},
     "output_type": "execute_result"
    }
   ],
   "source": [
    "indexes"
   ]
  },
  {
   "cell_type": "code",
   "execution_count": 99,
   "metadata": {
    "collapsed": true
   },
   "outputs": [],
   "source": [
    "idxx =set()"
   ]
  },
  {
   "cell_type": "code",
   "execution_count": 100,
   "metadata": {},
   "outputs": [
    {
     "data": {
      "text/plain": [
       "set()"
      ]
     },
     "execution_count": 100,
     "metadata": {},
     "output_type": "execute_result"
    }
   ],
   "source": [
    "idxx"
   ]
  },
  {
   "cell_type": "code",
   "execution_count": 101,
   "metadata": {
    "collapsed": true
   },
   "outputs": [],
   "source": [
    "idxx.add(1)"
   ]
  },
  {
   "cell_type": "code",
   "execution_count": 102,
   "metadata": {},
   "outputs": [
    {
     "data": {
      "text/plain": [
       "{1}"
      ]
     },
     "execution_count": 102,
     "metadata": {},
     "output_type": "execute_result"
    }
   ],
   "source": [
    "idxx"
   ]
  },
  {
   "cell_type": "code",
   "execution_count": 103,
   "metadata": {
    "collapsed": true
   },
   "outputs": [],
   "source": [
    "print add3_law_df.loc[152,'court_find']"
   ]
  },
  {
   "cell_type": "code",
   "execution_count": 104,
   "metadata": {
    "collapsed": true
   },
   "outputs": [],
   "source": [
    "prv_df_path ='/media/sherlock/new30/law/jun28InfoExtractor/tb_doc_prv.csv'"
   ]
  },
  {
   "cell_type": "code",
   "execution_count": 105,
   "metadata": {
    "collapsed": true
   },
   "outputs": [],
   "source": [
    "prv_df = pd.read_csv(prv_df_path)"
   ]
  },
  {
   "cell_type": "code",
   "execution_count": 107,
   "metadata": {},
   "outputs": [
    {
     "data": {
      "text/plain": [
       "0      有闻喜县公安局受案登记表、立案决定书，查获经过，涉嫌酒后驾车驾驶人血样提取登记表及照片，证人...\n",
       "1      有证人、祖×、、的证言，毒品检验报告，毒品、毒资照片，扣押决定书，扣押清单，扣押笔录，搜查笔...\n",
       "2      有证人、祖×、、的证言，毒品检验报告，毒品、毒资照片，扣押决定书，扣押清单，扣押笔录，搜查笔...\n",
       "3      有被害人的陈述；证人、、的证言；天津市医科大学总医院专家会诊中心出具的医学影像会诊意见、被告...\n",
       "4      有被害人、、的陈述，证人、、、、、、、、、、、、、等人的证言，案件来源及抓获经过，常住人口信...\n",
       "5      有被害人、、的陈述，证人、、、、、、、、、、、、、等人的证言，案件来源及抓获经过，常住人口信...\n",
       "6      有被害人、、的陈述，证人、、、、、、、、、、、、、等人的证言，案件来源及抓获经过，常住人口信...\n",
       "7      有被告人供述，被害人陈述，证人证言，现场勘验笔录及照片，价格鉴定意见书，涉案物品照片、监控录...\n",
       "8       有被害人等人的陈述、销售凭证、价格鉴证结论书、辨认笔录、视听资料、前科材料、抓获经过、户籍资料等\n",
       "9                                                    NaN\n",
       "10     有失主、、的陈述，证人的证言，被告人的供述，辨认笔录、被盗现场监控录像、购物发票及估价鉴定结...\n",
       "11     有失主、、的陈述，证人的证言，被告人的供述，辨认笔录、被盗现场监控录像、购物发票及估价鉴定结...\n",
       "12                                                   NaN\n",
       "13                                                   NaN\n",
       "14     有被害人的陈述，涉案物品价格鉴定结论书，视听资料，扣押清单，辨认笔录，作案工具照片，发生法律...\n",
       "15     有期徒刑六个月。2013年11月8日因犯抢劫罪被贵州省贵州市云岩区人民法院判处有期徒刑三年。...\n",
       "16     有期徒刑六个月。2013年11月8日因犯抢劫罪被贵州省贵州市云岩区人民法院判处有期徒刑三年。...\n",
       "17     有期徒刑六个月。2013年11月8日因犯抢劫罪被贵州省贵州市云岩区人民法院判处有期徒刑三年。...\n",
       "18                                                   NaN\n",
       "19                                                   NaN\n",
       "20                                       有公诉机关当庭宣读、出示的下列\n",
       "21     有被害人、的陈述，证人、、封某甲、、封某乙、封某丙、、、的证言，人体损伤程度鉴定意见书，灌南...\n",
       "22                                                   有下列\n",
       "23                                                   有下列\n",
       "24                                                   NaN\n",
       "25     有被告人谈×的供述，被害人的陈述，证人、、、、钱×的证言，诊断证明书，和解协议书及收条，法医...\n",
       "26     有书证被告人某某户籍证明，证人某某、某某、某某的证言，被害人某某陈述，被告人某某供述，鉴定意...\n",
       "27                                                   NaN\n",
       "28                                                   NaN\n",
       "29                                                   NaN\n",
       "                             ...                        \n",
       "970                                                  NaN\n",
       "971                                                  NaN\n",
       "972    有限责任公司签订借款合同及所附抵押合同，被告人利用一份车库发票和一份其伪造的编号为00354...\n",
       "973                                         有公诉机关当庭提供的下列\n",
       "974    有刑事判决书、行政处罚决定书等书证，证人、的证言，现场检查笔录、扣押清单、毒品疑似物称量记录...\n",
       "975    有病历、收条、谅解书等书证，证人、、的证言，现场勘验笔录、刑事摄影照片、道路交通事故认定书、...\n",
       "976    有控辩双方提交并经庭审质证、认证的书证发破案经过、到案经过、机动车/驾驶人信息查询结果单、车...\n",
       "977                    有吉林市公安交通司法鉴定中心技术检验报告及案件提起和破案经过材料等\n",
       "978                                                  NaN\n",
       "979                                                  NaN\n",
       "980                                                  NaN\n",
       "981    没有按承诺给他人找工作，向催要，被告人退回其中28万元给部分受害人，后1自愿代偿人民币8万元...\n",
       "982    没有按承诺给他人找工作，向催要，被告人退回其中28万元给部分受害人，后1自愿代偿人民币8万元...\n",
       "983    有证人、、、的证言，车辆痕迹及法医鉴定意见，公安机关出具的查破案、归案经过，交通事故现场勘查...\n",
       "984    含有咖啡因成分。上述事实，在开庭审理时被告人未提出异议，且由搜查证、搜查笔录、扣押决定书、扣...\n",
       "985    有被告人的供述和辩解，证人、、等人的证言，毒品检验报告，扣押物品清单，收缴毒品清单，前科材料...\n",
       "986    有书证案件来源、抓捕经过、户籍证明、提取物证笔录、驾驶人信息查询结果单、前科劣迹查询表、机动...\n",
       "987    有被害人家属的陈述；证人某某、、等人的证言；天津市公安交通管理局塘沽支队出具的道路交通事故认...\n",
       "988    有某某报案及陈述材料、破案经过、户籍证明、证人田某某的证言材料、法医鉴定文书、病例、现场勘验...\n",
       "989                                                  NaN\n",
       "990                                         有经法庭质证、认证的下列\n",
       "991     有案件来源、抓获经过、被告人供述、被害人陈述、证人证言、鉴定意见书、赔偿协议、谅解书、户籍证明等\n",
       "992     有案件来源、抓获经过、被告人供述、被害人陈述、证人证言、鉴定意见书、赔偿协议、谅解书、户籍证明等\n",
       "993    所有金杯牌汽车的挡风玻璃砸碎。案发后，赔偿宗守柱300元。2015年8月13日22时许，到岫...\n",
       "994                                                  NaN\n",
       "995                                                  NaN\n",
       "996    有被害人的陈述；证人某某、某某、某某的证言；被告人的户籍证明；借据、房屋维修基金收据、房屋所...\n",
       "997    有公诉机关提交并经庭审质证、认证的物证涉案原油、车辆（照片）；书证发破案经过、抓获经过、提取...\n",
       "998    有受案登记表,被害人、看的陈述,证人、、、、、的证言,被告人的供述,诊断证明及法医学人体损伤...\n",
       "999    有受案登记表,被害人、看的陈述,证人、、、、、的证言,被告人的供述,诊断证明及法医学人体损伤...\n",
       "Name: prv, dtype: object"
      ]
     },
     "execution_count": 107,
     "metadata": {},
     "output_type": "execute_result"
    }
   ],
   "source": [
    "prv_df.prv"
   ]
  },
  {
   "cell_type": "code",
   "execution_count": null,
   "metadata": {
    "collapsed": true
   },
   "outputs": [],
   "source": []
  }
 ],
 "metadata": {
  "kernelspec": {
   "display_name": "Python 2",
   "language": "python",
   "name": "python2"
  },
  "language_info": {
   "codemirror_mode": {
    "name": "ipython",
    "version": 2
   },
   "file_extension": ".py",
   "mimetype": "text/x-python",
   "name": "python",
   "nbconvert_exporter": "python",
   "pygments_lexer": "ipython2",
   "version": "2.7.6"
  }
 },
 "nbformat": 4,
 "nbformat_minor": 2
}
