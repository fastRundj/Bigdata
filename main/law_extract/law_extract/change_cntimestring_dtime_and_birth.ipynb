{
 "cells": [
  {
   "cell_type": "code",
   "execution_count": 1,
   "metadata": {
    "collapsed": true
   },
   "outputs": [],
   "source": [
    "#-*-coding:utf8 -*-\n",
    "import sys\n",
    "reload(sys)\n",
    "sys.setdefaultencoding('utf8')\n",
    "import pandas as pd"
   ]
  },
  {
   "cell_type": "code",
   "execution_count": 2,
   "metadata": {
    "collapsed": true
   },
   "outputs": [],
   "source": [
    "des_path = '/media/sherlock/new30/law/jun28InfoExtractor/tb_doc_add3.csv'\n",
    "add3_law_df = pd.read_csv(des_path)\n",
    "add3_law_df.info()"
   ]
  },
  {
   "cell_type": "code",
   "execution_count": 36,
   "metadata": {
    "collapsed": true
   },
   "outputs": [
    {
     "data": {
      "text/plain": [
       "0      45.0\n",
       "1      34.0\n",
       "2      40.0\n",
       "3       NaN\n",
       "4       NaN\n",
       "5       NaN\n",
       "6      28.0\n",
       "7      26.0\n",
       "8      42.0\n",
       "9      34.0\n",
       "10      NaN\n",
       "11     29.0\n",
       "12     28.0\n",
       "13     24.0\n",
       "14      NaN\n",
       "15     32.0\n",
       "16      NaN\n",
       "17      NaN\n",
       "18      NaN\n",
       "19     50.0\n",
       "20     35.0\n",
       "21      NaN\n",
       "22     56.0\n",
       "23     27.0\n",
       "24      NaN\n",
       "25     28.0\n",
       "26     53.0\n",
       "27      NaN\n",
       "28     33.0\n",
       "29      NaN\n",
       "       ... \n",
       "970    45.0\n",
       "971     NaN\n",
       "972    35.0\n",
       "973    43.0\n",
       "974    56.0\n",
       "975    26.0\n",
       "976    30.0\n",
       "977     NaN\n",
       "978     NaN\n",
       "979     NaN\n",
       "980     NaN\n",
       "981    35.0\n",
       "982    35.0\n",
       "983     NaN\n",
       "984    58.0\n",
       "985    22.0\n",
       "986    38.0\n",
       "987    25.0\n",
       "988    47.0\n",
       "989     NaN\n",
       "990    59.0\n",
       "991     NaN\n",
       "992    41.0\n",
       "993     NaN\n",
       "994    43.0\n",
       "995    43.0\n",
       "996    38.0\n",
       "997    40.0\n",
       "998     NaN\n",
       "999    30.0\n",
       "Name: year_age, dtype: float64"
      ]
     },
     "execution_count": 36,
     "metadata": {},
     "output_type": "execute_result"
    }
   ],
   "source": [
    "add3_law_df.year_age"
   ]
  },
  {
   "cell_type": "code",
   "execution_count": 35,
   "metadata": {
    "scrolled": true
   },
   "outputs": [
    {
     "data": {
      "text/plain": [
       "0                1972年3月16日 \n",
       "1                1983年8月12日 \n",
       "2                 1977年9月5日 \n",
       "3                        NaN\n",
       "4                        NaN\n",
       "5                        NaN\n",
       "6                 1989年8月9日 \n",
       "7                1991年5月12日 \n",
       "8               1975年11月18日 \n",
       "9               1983年12月13日 \n",
       "10                       NaN\n",
       "11              1988年10月24日 \n",
       "12               1989年8月28日 \n",
       "13                1993年3月5日 \n",
       "14                       NaN\n",
       "15               1985年3月20日 \n",
       "16                       NaN\n",
       "17                       NaN\n",
       "18                       NaN\n",
       "19               1967年2月13日 \n",
       "20              1982年10月12日 \n",
       "21                       NaN\n",
       "22               1961年9月12日 \n",
       "23               1990年8月17日 \n",
       "24                       NaN\n",
       "25               1989年1月13日 \n",
       "26               1964年7月28日 \n",
       "27                       NaN\n",
       "28                1984年5月2日 \n",
       "29                       NaN\n",
       "               ...          \n",
       "970                 1972年4月 \n",
       "971                      NaN\n",
       "972              1982年3月28日 \n",
       "973             1974年10月23日 \n",
       "974               1961年9月5日 \n",
       "975              1991年3月26日 \n",
       "976               1987年1月4日 \n",
       "977                      NaN\n",
       "978                      NaN\n",
       "979                      NaN\n",
       "980                      NaN\n",
       "981              1982年5月30日 \n",
       "982    1982年8月7日 1983年8月10日 \n",
       "983                      NaN\n",
       "984              1959年7月13日 \n",
       "985             1995年12月18日 \n",
       "986               1979年9月4日 \n",
       "987             1992年11月24日 \n",
       "988             1970年10月18日 \n",
       "989                      NaN\n",
       "990             1958年10月10日 \n",
       "991                      NaN\n",
       "992               1976年8月1日 \n",
       "993                      NaN\n",
       "994               1974年2月9日 \n",
       "995              1974年5月28日 \n",
       "996              1979年9月13日 \n",
       "997              1977年12月3日 \n",
       "998                      NaN\n",
       "999              1987年6月22日 \n",
       "Name: birth, dtype: object"
      ]
     },
     "execution_count": 35,
     "metadata": {},
     "output_type": "execute_result"
    }
   ],
   "source": [
    "add3_law_df.birth"
   ]
  },
  {
   "cell_type": "code",
   "execution_count": 3,
   "metadata": {
    "collapsed": true
   },
   "outputs": [],
   "source": [
    "from pyltp import Segmentor\n",
    "import re\n",
    "from collections import Counter\n",
    "\n",
    "segmentor = Segmentor()  # 初始化实例\n",
    "segmentor.load('/home/sherlock/Documents/ltp_data/cws.model')\n",
    "#实例化词性工具\n",
    "# postagger = Postagger() # 初始化实例\n",
    "# postagger.load('/home/sherlock/Documents/ltp_data/pos.model')  # 加载模型\n",
    "# recognizer = NamedEntityRecognizer()\n",
    "# recognizer.load('/home/sherlock/Documents/ltp_data/ner.model')\n",
    "\n",
    "def wdseg(inputstr,ret_type):\n",
    "\n",
    "\n",
    "    words = segmentor.segment(inputstr)  # 分词\n",
    "    if ret_type == 'str':\n",
    "        seg_word = ' '.join(words)\n",
    "    if ret_type == 'lst':\n",
    "        seg_word = ' '.join(words)\n",
    "        seg_word = seg_word.split()\n",
    "\n",
    "    #segmentor.release()  # 释放模型\n",
    "    return seg_word"
   ]
  },
  {
   "cell_type": "code",
   "execution_count": 7,
   "metadata": {
    "collapsed": true
   },
   "outputs": [],
   "source": [
    "bir_age = add3_law_df.loc[2,'birth']"
   ]
  },
  {
   "cell_type": "code",
   "execution_count": 8,
   "metadata": {
    "collapsed": true
   },
   "outputs": [],
   "source": [
    "time_words = wdseg(bir_age,'lst')"
   ]
  },
  {
   "cell_type": "code",
   "execution_count": 9,
   "metadata": {},
   "outputs": [
    {
     "data": {
      "text/plain": [
       "['1977\\xe5\\xb9\\xb4', '9\\xe6\\x9c\\x88', '5\\xe6\\x97\\xa5']"
      ]
     },
     "execution_count": 9,
     "metadata": {},
     "output_type": "execute_result"
    }
   ],
   "source": [
    "time_words"
   ]
  },
  {
   "cell_type": "code",
   "execution_count": 26,
   "metadata": {
    "collapsed": true
   },
   "outputs": [],
   "source": [
    "for i in time_words:\n",
    "    if '年' in i:\n",
    "        print i[:4]\n",
    "        bir_year = i[:4]"
   ]
  },
  {
   "cell_type": "code",
   "execution_count": 11,
   "metadata": {
    "collapsed": true
   },
   "outputs": [],
   "source": [
    "import pandas as pd"
   ]
  },
  {
   "cell_type": "code",
   "execution_count": 31,
   "metadata": {},
   "outputs": [
    {
     "data": {
      "text/plain": [
       "Timestamp('1977-01-01 00:00:00')"
      ]
     },
     "execution_count": 31,
     "metadata": {},
     "output_type": "execute_result"
    }
   ],
   "source": [
    "bir_year = pd.to_datetime(bir_year)\n",
    "bir_year"
   ]
  },
  {
   "cell_type": "code",
   "execution_count": 32,
   "metadata": {
    "collapsed": true
   },
   "outputs": [],
   "source": [
    "now = pd.datetime.now().year"
   ]
  },
  {
   "cell_type": "code",
   "execution_count": 33,
   "metadata": {},
   "outputs": [
    {
     "data": {
      "text/plain": [
       "2017"
      ]
     },
     "execution_count": 33,
     "metadata": {},
     "output_type": "execute_result"
    }
   ],
   "source": [
    "now"
   ]
  },
  {
   "cell_type": "code",
   "execution_count": 28,
   "metadata": {},
   "outputs": [
    {
     "data": {
      "text/plain": [
       "int"
      ]
     },
     "execution_count": 28,
     "metadata": {},
     "output_type": "execute_result"
    }
   ],
   "source": [
    "type(now.year)"
   ]
  },
  {
   "cell_type": "code",
   "execution_count": 29,
   "metadata": {},
   "outputs": [
    {
     "data": {
      "text/plain": [
       "1977"
      ]
     },
     "execution_count": 29,
     "metadata": {},
     "output_type": "execute_result"
    }
   ],
   "source": [
    "eval(bir_year)"
   ]
  },
  {
   "cell_type": "code",
   "execution_count": 30,
   "metadata": {},
   "outputs": [
    {
     "data": {
      "text/plain": [
       "40"
      ]
     },
     "execution_count": 30,
     "metadata": {},
     "output_type": "execute_result"
    }
   ],
   "source": [
    "now.year-eval(bir_year)"
   ]
  },
  {
   "cell_type": "code",
   "execution_count": 23,
   "metadata": {},
   "outputs": [
    {
     "ename": "TypeError",
     "evalue": "descriptor '__sub__' requires a 'datetime.datetime' object but received a 'int'",
     "output_type": "error",
     "traceback": [
      "\u001b[0;31m---------------------------------------------------------------------------\u001b[0m",
      "\u001b[0;31mTypeError\u001b[0m                                 Traceback (most recent call last)",
      "\u001b[0;32m<ipython-input-23-e191fca70355>\u001b[0m in \u001b[0;36m<module>\u001b[0;34m()\u001b[0m\n\u001b[0;32m----> 1\u001b[0;31m \u001b[0mdelta\u001b[0m \u001b[0;34m=\u001b[0m \u001b[0mnow\u001b[0m\u001b[0;34m.\u001b[0m\u001b[0myear\u001b[0m\u001b[0;34m-\u001b[0m\u001b[0mbir_year\u001b[0m\u001b[0;34m\u001b[0m\u001b[0m\n\u001b[0m",
      "\u001b[0;32mpandas/tslib.pyx\u001b[0m in \u001b[0;36mpandas.tslib._Timestamp.__sub__ (pandas/tslib.c:21777)\u001b[0;34m()\u001b[0m\n",
      "\u001b[0;31mTypeError\u001b[0m: descriptor '__sub__' requires a 'datetime.datetime' object but received a 'int'"
     ]
    }
   ],
   "source": [
    "delta = now.year-bir_year "
   ]
  },
  {
   "cell_type": "code",
   "execution_count": 22,
   "metadata": {},
   "outputs": [
    {
     "data": {
      "text/plain": [
       "14800"
      ]
     },
     "execution_count": 22,
     "metadata": {},
     "output_type": "execute_result"
    }
   ],
   "source": [
    "delta.days"
   ]
  },
  {
   "cell_type": "code",
   "execution_count": null,
   "metadata": {
    "collapsed": true
   },
   "outputs": [],
   "source": []
  },
  {
   "cell_type": "code",
   "execution_count": 4,
   "metadata": {
    "collapsed": true
   },
   "outputs": [],
   "source": [
    "print add3_law_df.loc[41,'party_info']"
   ]
  },
  {
   "cell_type": "code",
   "execution_count": 13,
   "metadata": {
    "collapsed": true
   },
   "outputs": [],
   "source": [
    "def get_birth(info_seg_list):\n",
    "    #eliminate the birth of the plantiff\n",
    "\n",
    "\n",
    "\n",
    "\n",
    "    #if '被告' in i:\n",
    "\n",
    "        # dft_idx = int(info_seg_list.index(i))\n",
    "    dft_idx = [indx for indx,x in enumerate(info_seg_list) if '被告' in x]\n",
    "    print 'dft index is ',dft_idx\n",
    "        #print '***' + i +str(info_seg_list.index(i))\n",
    "    #if '年' in i:\n",
    "        # yr_idx = int(info_seg_list.index(i))\n",
    "    yr_idx = [indx for indx,x in enumerate(info_seg_list) if '年' in x]\n",
    "    #if '生' in i:\n",
    "        # born_str = int(info_seg_list.index(i))\n",
    "    born_idx = [indx for indx,x in enumerate(info_seg_list) if '生' in x]\n",
    "    #jul.5 出现2015年因犯 这种字段被识别成生日。年月日后面要么是逗号要么是生，xx年，XX年YY月\n",
    "\n",
    "    try:\n",
    "        new_yy_idx = []\n",
    "        for yy in yr_idx:\n",
    "            for dd in dft_idx:\n",
    "                if  0< yy - dd <10:\n",
    "                    print yy\n",
    "                    new_yy_idx.append(yy)\n",
    "            #for bb in born_idx:\n",
    "                #if 0< bb -yy<5:\n",
    "                    #print yy\n",
    "                    #new_yy_idx.append(yy)\n",
    "        new_yr_idx = list(set(new_yy_idx))\n",
    "        new_yr_idx.sort()#new_yr_idx = new_yr_idx.sort() is wrong\n",
    "        new_bir_idx = []\n",
    "        for yi in new_yr_idx:\n",
    "            if '，' in info_seg_list[yi+1] or '。' in info_seg_list[yi+1]:\n",
    "                new_bir_idx.append((yi,yi+1))\n",
    "            elif '月' in info_seg_list[yi+1]:\n",
    "                if '，' in info_seg_list[yi+2] or '。' in info_seg_list[yi+2]:\n",
    "                    new_bir_idx.append((yi,yi+2))\n",
    "                elif '日' in info_seg_list[yi+2]:\n",
    "                    if '，' in info_seg_list[yi+3] or '。' in info_seg_list[yi+3]:\n",
    "                        new_bir_idx.append((yi,yi+3))\n",
    "                    elif '生' in info_seg_list[yi+3]:\n",
    "                        new_bir_idx.append((yi,yi+3))\n",
    "\n",
    "        birth = ''\n",
    "        for l in new_bir_idx:\n",
    "\n",
    "            # if yr_idx[l] - dft_idx[l] <10 or born_idx[l] - yr_idx[l] <5:\n",
    "                #  birth = ''\n",
    "            for bt_i in range (l[0],l[1]):\n",
    "                bt = info_seg_list[bt_i]\n",
    "                birth = birth+bt\n",
    "            birth = birth +' '\n",
    "\n",
    "        return birth\n",
    "\n",
    "            # if yr_idx - dft_idx <10 or born_str - yr_idx <5:\n",
    "            #     birth = ''\n",
    "            #     for bt_i in  range(yr_idx,yr_idx+3):\n",
    "            #         bt = info_seg_list[bt_i]\n",
    "            #         birth = birth + bt\n",
    "            #\n",
    "            #     #print birth\n",
    "            #     return birth\n",
    "    except:\n",
    "        pass"
   ]
  },
  {
   "cell_type": "code",
   "execution_count": 6,
   "metadata": {
    "collapsed": true
   },
   "outputs": [],
   "source": [
    "info_words_bir = wdseg(add3_law_df.loc[41,'party_info'].encode('utf8'),'lst')"
   ]
  },
  {
   "cell_type": "code",
   "execution_count": 14,
   "metadata": {
    "collapsed": true
   },
   "outputs": [],
   "source": [
    "birth = get_birth(info_words_bir)"
   ]
  },
  {
   "cell_type": "code",
   "execution_count": 16,
   "metadata": {
    "collapsed": true
   },
   "outputs": [],
   "source": [
    "print add3_law_df.loc[41,'party_info']\n",
    "print birth"
   ]
  },
  {
   "cell_type": "code",
   "execution_count": null,
   "metadata": {
    "collapsed": true
   },
   "outputs": [],
   "source": []
  },
  {
   "cell_type": "code",
   "execution_count": null,
   "metadata": {
    "collapsed": true
   },
   "outputs": [],
   "source": []
  },
  {
   "cell_type": "code",
   "execution_count": null,
   "metadata": {
    "collapsed": true
   },
   "outputs": [],
   "source": []
  },
  {
   "cell_type": "code",
   "execution_count": null,
   "metadata": {
    "collapsed": true
   },
   "outputs": [],
   "source": []
  },
  {
   "cell_type": "code",
   "execution_count": null,
   "metadata": {
    "collapsed": true
   },
   "outputs": [],
   "source": []
  },
  {
   "cell_type": "code",
   "execution_count": null,
   "metadata": {
    "collapsed": true
   },
   "outputs": [],
   "source": []
  },
  {
   "cell_type": "code",
   "execution_count": null,
   "metadata": {
    "collapsed": true
   },
   "outputs": [],
   "source": []
  },
  {
   "cell_type": "code",
   "execution_count": null,
   "metadata": {
    "collapsed": true
   },
   "outputs": [],
   "source": []
  },
  {
   "cell_type": "code",
   "execution_count": null,
   "metadata": {
    "collapsed": true
   },
   "outputs": [],
   "source": []
  },
  {
   "cell_type": "code",
   "execution_count": null,
   "metadata": {
    "collapsed": true
   },
   "outputs": [],
   "source": []
  },
  {
   "cell_type": "code",
   "execution_count": null,
   "metadata": {
    "collapsed": true
   },
   "outputs": [],
   "source": []
  },
  {
   "cell_type": "code",
   "execution_count": null,
   "metadata": {
    "collapsed": true
   },
   "outputs": [],
   "source": []
  },
  {
   "cell_type": "code",
   "execution_count": null,
   "metadata": {
    "collapsed": true
   },
   "outputs": [],
   "source": []
  },
  {
   "cell_type": "code",
   "execution_count": null,
   "metadata": {
    "collapsed": true
   },
   "outputs": [],
   "source": []
  },
  {
   "cell_type": "code",
   "execution_count": null,
   "metadata": {
    "collapsed": true
   },
   "outputs": [],
   "source": []
  },
  {
   "cell_type": "code",
   "execution_count": null,
   "metadata": {
    "collapsed": true
   },
   "outputs": [],
   "source": []
  },
  {
   "cell_type": "code",
   "execution_count": null,
   "metadata": {
    "collapsed": true
   },
   "outputs": [],
   "source": []
  },
  {
   "cell_type": "code",
   "execution_count": null,
   "metadata": {
    "collapsed": true
   },
   "outputs": [],
   "source": []
  },
  {
   "cell_type": "code",
   "execution_count": 35,
   "metadata": {
    "collapsed": true
   },
   "outputs": [],
   "source": [
    "def art_select():\n",
    "    print 'call function'\n",
    "    conn = pymysql.connect(db=\"laws_doc\", user=\"hzj\", password=\"123456\", host=\"192.168.10.24\",port = 3306,charset='utf8mb4')\n",
    "    print 'conn done!'\n",
    "    cur = conn.cursor()\n",
    "    #batch_amount = 1\n",
    "    #total_amount = 1876058#2824916\n",
    "    #for start in range(1876056,total_amount,batch_amount):\n",
    "        #if start % 1000 == 0:\n",
    "            #print start\n",
    "        # sql = \"SELECT uuid,id,party_info FROM judgment WHERE id >= %d LIMIT %d \"  %(start,batch_amount)\n",
    "    sql = \"SELECT doc_content FROM judgment WHERE id = %d \"  % 1878888\n",
    "        #print sql\n",
    "    cur.execute(sql)\n",
    "    print cur.description\n",
    "    for row in cur:\n",
    "        print row[0]\n",
    "    \n",
    "    cur.close()\n",
    "    conn.close()"
   ]
  },
  {
   "cell_type": "code",
   "execution_count": 36,
   "metadata": {
    "collapsed": true
   },
   "outputs": [],
   "source": [
    "art_select()"
   ]
  },
  {
   "cell_type": "code",
   "execution_count": null,
   "metadata": {
    "collapsed": true
   },
   "outputs": [],
   "source": []
  }
 ],
 "metadata": {
  "kernelspec": {
   "display_name": "Python 2",
   "language": "python",
   "name": "python2"
  },
  "language_info": {
   "codemirror_mode": {
    "name": "ipython",
    "version": 2
   },
   "file_extension": ".py",
   "mimetype": "text/x-python",
   "name": "python",
   "nbconvert_exporter": "python",
   "pygments_lexer": "ipython2",
   "version": "2.7.6"
  }
 },
 "nbformat": 4,
 "nbformat_minor": 2
}
