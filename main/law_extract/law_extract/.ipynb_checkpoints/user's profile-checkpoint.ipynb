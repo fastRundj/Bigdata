{
 "cells": [
  {
   "cell_type": "code",
   "execution_count": 1,
   "metadata": {
    "collapsed": true
   },
   "outputs": [],
   "source": [
    "#-*-coding:utf8-*-\n",
    "import pandas as pd\n",
    "import numpy as np\n",
    "import sys\n",
    "reload(sys)\n",
    "from collections import Counter\n",
    "from matplotlib import pyplot as plt"
   ]
  },
  {
   "cell_type": "markdown",
   "metadata": {},
   "source": [
    "#### Test the save dataframe "
   ]
  },
  {
   "cell_type": "code",
   "execution_count": 18,
   "metadata": {
    "collapsed": true
   },
   "outputs": [],
   "source": [
    "load_path = '/home/sherlock/withcopu_dic/law_extract/law_extract2/test_multi_col_reason2.csv'"
   ]
  },
  {
   "cell_type": "code",
   "execution_count": 19,
   "metadata": {
    "scrolled": true
   },
   "outputs": [
    {
     "data": {
      "text/html": [
       "<div>\n",
       "<table border=\"1\" class=\"dataframe\">\n",
       "  <thead>\n",
       "    <tr style=\"text-align: right;\">\n",
       "      <th></th>\n",
       "      <th>crime_reason</th>\n",
       "      <th>gender</th>\n",
       "      <th>nation</th>\n",
       "      <th>edu</th>\n",
       "      <th>age</th>\n",
       "      <th>adult</th>\n",
       "      <th>criminal_team</th>\n",
       "      <th>n_age</th>\n",
       "    </tr>\n",
       "  </thead>\n",
       "  <tbody>\n",
       "    <tr>\n",
       "      <th>0</th>\n",
       "      <td>逃汇</td>\n",
       "      <td>Counter({u'': 1, u'\\u7537': 1})</td>\n",
       "      <td>Counter({u'': 1, u'\\u6c49\\u65cf': 1})</td>\n",
       "      <td>Counter({u'': 1})</td>\n",
       "      <td>Counter({u'37': 1})</td>\n",
       "      <td>Counter({u'1': 1})</td>\n",
       "      <td>Counter({u'0': 1})</td>\n",
       "      <td>{'37': 1}</td>\n",
       "    </tr>\n",
       "    <tr>\n",
       "      <th>1</th>\n",
       "      <td>非法侵入住宅</td>\n",
       "      <td>Counter({u'': 1962, u'\\u7537': 1695, u'\\u5973'...</td>\n",
       "      <td>Counter({u'': 1962, u'\\u6c49\\u65cf': 1147, u'\\...</td>\n",
       "      <td>Counter({u'': 1962, u'\\u521d\\u4e2d': 467, u'\\u...</td>\n",
       "      <td>Counter({u'None': 1045, u'25': 49, u'27': 44, ...</td>\n",
       "      <td>Counter({u'None': 1046, u'1': 905, u'0': 11})</td>\n",
       "      <td>Counter({u'0': 1384, u'1': 577, u'None': 1})</td>\n",
       "      <td>{'56': 3, '28': 21, '30': 32, '29': 30, '60': ...</td>\n",
       "    </tr>\n",
       "    <tr>\n",
       "      <th>2</th>\n",
       "      <td>非法出售增值税专用发票</td>\n",
       "      <td>Counter({u'': 21, u'\\u7537': 9, u'\\u5973': 2})</td>\n",
       "      <td>Counter({u'': 21, u'\\u6c49\\u65cf': 6})</td>\n",
       "      <td>Counter({u'': 21, u'\\u9ad8\\u4e2d': 4, u'\\u521d...</td>\n",
       "      <td>Counter({u'None': 13, u'40': 4, u'33': 1, u'45...</td>\n",
       "      <td>Counter({u'None': 13, u'1': 8})</td>\n",
       "      <td>Counter({u'0': 11, u'1': 10})</td>\n",
       "      <td>{'33': 1, '45': 1, '42': 1, '40': 4, '34': 1}</td>\n",
       "    </tr>\n",
       "    <tr>\n",
       "      <th>3</th>\n",
       "      <td>违规出具金融票证</td>\n",
       "      <td>Counter({u'': 15, u'\\u5973': 12, u'\\u7537': 8})</td>\n",
       "      <td>Counter({u'\\u6c49\\u65cf': 16, u'': 15, u'\\u6ee...</td>\n",
       "      <td>Counter({u'': 15, u'\\u5927\\u5b66': 9, u'\\u672c...</td>\n",
       "      <td>Counter({u'None': 11, u'45': 4})</td>\n",
       "      <td>Counter({u'None': 11, u'1': 4})</td>\n",
       "      <td>Counter({u'1': 8, u'0': 7})</td>\n",
       "      <td>{'45': 4}</td>\n",
       "    </tr>\n",
       "    <tr>\n",
       "      <th>4</th>\n",
       "      <td>破坏监管秩序</td>\n",
       "      <td>Counter({u'\\u7537': 259, u'': 197})</td>\n",
       "      <td>Counter({u'': 197, u'\\u6c49\\u65cf': 191, u'\\u5...</td>\n",
       "      <td>Counter({u'': 197, u'\\u521d\\u4e2d': 121, u'\\u5...</td>\n",
       "      <td>Counter({u'None': 78, u'28': 26, u'26': 7, u'2...</td>\n",
       "      <td>Counter({u'1': 118, u'None': 78, u'0': 1})</td>\n",
       "      <td>Counter({u'0': 154, u'1': 43})</td>\n",
       "      <td>{'45': 1, '43': 4, '28': 26, '26': 7, '36': 1,...</td>\n",
       "    </tr>\n",
       "    <tr>\n",
       "      <th>5</th>\n",
       "      <td>破坏军婚</td>\n",
       "      <td>Counter({u'': 10, u'\\u7537': 7})</td>\n",
       "      <td>Counter({u'': 10, u'\\u6c49\\u65cf': 5})</td>\n",
       "      <td>Counter({u'': 10, u'\\u521d\\u4e2d': 2, u'\\u9ad8...</td>\n",
       "      <td>Counter({u'None': 5, u'26': 1, u'30': 1, u'45'...</td>\n",
       "      <td>Counter({u'1': 5, u'None': 5})</td>\n",
       "      <td>Counter({u'0': 9, u'1': 1})</td>\n",
       "      <td>{'26': 1, '45': 1, '28': 1, '29': 1, '30': 1}</td>\n",
       "    </tr>\n",
       "    <tr>\n",
       "      <th>6</th>\n",
       "      <td>侮辱</td>\n",
       "      <td>Counter({u'': 67, u'\\u5973': 34, u'\\u7537': 27})</td>\n",
       "      <td>Counter({u'': 67, u'\\u6c49\\u65cf': 42, u'\\u56d...</td>\n",
       "      <td>Counter({u'': 67, u'\\u521d\\u4e2d': 16, u'\\u5c0...</td>\n",
       "      <td>Counter({u'None': 35, u'26': 2, u'46': 2, u'43...</td>\n",
       "      <td>Counter({u'None': 37, u'1': 30})</td>\n",
       "      <td>Counter({u'0': 46, u'1': 21})</td>\n",
       "      <td>{'66': 1, '42': 1, '29': 1, '60': 1, '61': 1, ...</td>\n",
       "    </tr>\n",
       "    <tr>\n",
       "      <th>7</th>\n",
       "      <td>失火</td>\n",
       "      <td>Counter({u'': 5487, u'\\u7537': 3100, u'\\u5973'...</td>\n",
       "      <td>Counter({u'': 5487, u'\\u6c49\\u65cf': 2478, u'\\...</td>\n",
       "      <td>Counter({u'': 5487, u'\\u5c0f\\u5b66': 1183, u'\\...</td>\n",
       "      <td>Counter({u'None': 2633, u'51': 88, u'60': 88, ...</td>\n",
       "      <td>Counter({u'1': 2834, u'None': 2645, u'0': 8})</td>\n",
       "      <td>Counter({u'0': 5152, u'1': 323, u'None': 12})</td>\n",
       "      <td>{'30': 20, '42': 55, '43': 50, '60': 88, '61':...</td>\n",
       "    </tr>\n",
       "    <tr>\n",
       "      <th>8</th>\n",
       "      <td>敲诈勒索</td>\n",
       "      <td>Counter({u'\\u7537': 12608, u'': 11490, u'\\u597...</td>\n",
       "      <td>Counter({u'': 11490, u'\\u6c49\\u65cf': 8731, u'...</td>\n",
       "      <td>Counter({u'': 11490, u'\\u521d\\u4e2d': 4987, u'...</td>\n",
       "      <td>Counter({u'None': 6356, u'26': 237, u'25': 225...</td>\n",
       "      <td>Counter({u'None': 6366, u'1': 5072, u'0': 52})</td>\n",
       "      <td>Counter({u'0': 6391, u'1': 5076, u'None': 23})</td>\n",
       "      <td>{'56': 17, '28': 188, '30': 176, '29': 200, '6...</td>\n",
       "    </tr>\n",
       "    <tr>\n",
       "      <th>9</th>\n",
       "      <td>组织、领导、参加黑社会性质组织</td>\n",
       "      <td>Counter({u'\\u7537': 2284, u'': 641, u'\\u5973':...</td>\n",
       "      <td>Counter({u'\\u6c49\\u65cf': 984, u'': 641, u'\\u5...</td>\n",
       "      <td>Counter({u'\\u521d\\u4e2d': 747, u'': 641, u'\\u5...</td>\n",
       "      <td>Counter({u'None': 395, u'41': 22, u'39': 18, u...</td>\n",
       "      <td>Counter({u'None': 395, u'1': 235, u'0': 11})</td>\n",
       "      <td>Counter({u'1': 362, u'0': 279})</td>\n",
       "      <td>{'45': 5, '42': 15, '26': 5, '43': 13, '62': 6...</td>\n",
       "    </tr>\n",
       "  </tbody>\n",
       "</table>\n",
       "</div>"
      ],
      "text/plain": [
       "      crime_reason                                             gender  \\\n",
       "0               逃汇                    Counter({u'': 1, u'\\u7537': 1})   \n",
       "1           非法侵入住宅  Counter({u'': 1962, u'\\u7537': 1695, u'\\u5973'...   \n",
       "2      非法出售增值税专用发票     Counter({u'': 21, u'\\u7537': 9, u'\\u5973': 2})   \n",
       "3         违规出具金融票证    Counter({u'': 15, u'\\u5973': 12, u'\\u7537': 8})   \n",
       "4           破坏监管秩序                Counter({u'\\u7537': 259, u'': 197})   \n",
       "5             破坏军婚                   Counter({u'': 10, u'\\u7537': 7})   \n",
       "6               侮辱   Counter({u'': 67, u'\\u5973': 34, u'\\u7537': 27})   \n",
       "7               失火  Counter({u'': 5487, u'\\u7537': 3100, u'\\u5973'...   \n",
       "8             敲诈勒索  Counter({u'\\u7537': 12608, u'': 11490, u'\\u597...   \n",
       "9  组织、领导、参加黑社会性质组织  Counter({u'\\u7537': 2284, u'': 641, u'\\u5973':...   \n",
       "\n",
       "                                              nation  \\\n",
       "0              Counter({u'': 1, u'\\u6c49\\u65cf': 1})   \n",
       "1  Counter({u'': 1962, u'\\u6c49\\u65cf': 1147, u'\\...   \n",
       "2             Counter({u'': 21, u'\\u6c49\\u65cf': 6})   \n",
       "3  Counter({u'\\u6c49\\u65cf': 16, u'': 15, u'\\u6ee...   \n",
       "4  Counter({u'': 197, u'\\u6c49\\u65cf': 191, u'\\u5...   \n",
       "5             Counter({u'': 10, u'\\u6c49\\u65cf': 5})   \n",
       "6  Counter({u'': 67, u'\\u6c49\\u65cf': 42, u'\\u56d...   \n",
       "7  Counter({u'': 5487, u'\\u6c49\\u65cf': 2478, u'\\...   \n",
       "8  Counter({u'': 11490, u'\\u6c49\\u65cf': 8731, u'...   \n",
       "9  Counter({u'\\u6c49\\u65cf': 984, u'': 641, u'\\u5...   \n",
       "\n",
       "                                                 edu  \\\n",
       "0                                  Counter({u'': 1})   \n",
       "1  Counter({u'': 1962, u'\\u521d\\u4e2d': 467, u'\\u...   \n",
       "2  Counter({u'': 21, u'\\u9ad8\\u4e2d': 4, u'\\u521d...   \n",
       "3  Counter({u'': 15, u'\\u5927\\u5b66': 9, u'\\u672c...   \n",
       "4  Counter({u'': 197, u'\\u521d\\u4e2d': 121, u'\\u5...   \n",
       "5  Counter({u'': 10, u'\\u521d\\u4e2d': 2, u'\\u9ad8...   \n",
       "6  Counter({u'': 67, u'\\u521d\\u4e2d': 16, u'\\u5c0...   \n",
       "7  Counter({u'': 5487, u'\\u5c0f\\u5b66': 1183, u'\\...   \n",
       "8  Counter({u'': 11490, u'\\u521d\\u4e2d': 4987, u'...   \n",
       "9  Counter({u'\\u521d\\u4e2d': 747, u'': 641, u'\\u5...   \n",
       "\n",
       "                                                 age  \\\n",
       "0                                Counter({u'37': 1})   \n",
       "1  Counter({u'None': 1045, u'25': 49, u'27': 44, ...   \n",
       "2  Counter({u'None': 13, u'40': 4, u'33': 1, u'45...   \n",
       "3                   Counter({u'None': 11, u'45': 4})   \n",
       "4  Counter({u'None': 78, u'28': 26, u'26': 7, u'2...   \n",
       "5  Counter({u'None': 5, u'26': 1, u'30': 1, u'45'...   \n",
       "6  Counter({u'None': 35, u'26': 2, u'46': 2, u'43...   \n",
       "7  Counter({u'None': 2633, u'51': 88, u'60': 88, ...   \n",
       "8  Counter({u'None': 6356, u'26': 237, u'25': 225...   \n",
       "9  Counter({u'None': 395, u'41': 22, u'39': 18, u...   \n",
       "\n",
       "                                            adult  \\\n",
       "0                              Counter({u'1': 1})   \n",
       "1   Counter({u'None': 1046, u'1': 905, u'0': 11})   \n",
       "2                 Counter({u'None': 13, u'1': 8})   \n",
       "3                 Counter({u'None': 11, u'1': 4})   \n",
       "4      Counter({u'1': 118, u'None': 78, u'0': 1})   \n",
       "5                  Counter({u'1': 5, u'None': 5})   \n",
       "6                Counter({u'None': 37, u'1': 30})   \n",
       "7   Counter({u'1': 2834, u'None': 2645, u'0': 8})   \n",
       "8  Counter({u'None': 6366, u'1': 5072, u'0': 52})   \n",
       "9    Counter({u'None': 395, u'1': 235, u'0': 11})   \n",
       "\n",
       "                                    criminal_team  \\\n",
       "0                              Counter({u'0': 1})   \n",
       "1    Counter({u'0': 1384, u'1': 577, u'None': 1})   \n",
       "2                   Counter({u'0': 11, u'1': 10})   \n",
       "3                     Counter({u'1': 8, u'0': 7})   \n",
       "4                  Counter({u'0': 154, u'1': 43})   \n",
       "5                     Counter({u'0': 9, u'1': 1})   \n",
       "6                   Counter({u'0': 46, u'1': 21})   \n",
       "7   Counter({u'0': 5152, u'1': 323, u'None': 12})   \n",
       "8  Counter({u'0': 6391, u'1': 5076, u'None': 23})   \n",
       "9                 Counter({u'1': 362, u'0': 279})   \n",
       "\n",
       "                                               n_age  \n",
       "0                                          {'37': 1}  \n",
       "1  {'56': 3, '28': 21, '30': 32, '29': 30, '60': ...  \n",
       "2      {'33': 1, '45': 1, '42': 1, '40': 4, '34': 1}  \n",
       "3                                          {'45': 4}  \n",
       "4  {'45': 1, '43': 4, '28': 26, '26': 7, '36': 1,...  \n",
       "5      {'26': 1, '45': 1, '28': 1, '29': 1, '30': 1}  \n",
       "6  {'66': 1, '42': 1, '29': 1, '60': 1, '61': 1, ...  \n",
       "7  {'30': 20, '42': 55, '43': 50, '60': 88, '61':...  \n",
       "8  {'56': 17, '28': 188, '30': 176, '29': 200, '6...  \n",
       "9  {'45': 5, '42': 15, '26': 5, '43': 13, '62': 6...  "
      ]
     },
     "execution_count": 19,
     "metadata": {},
     "output_type": "execute_result"
    }
   ],
   "source": [
    "val_df = pd.read_csv(load_path)\n",
    "val_df.head(10)"
   ]
  },
  {
   "cell_type": "code",
   "execution_count": 9,
   "metadata": {
    "collapsed": true
   },
   "outputs": [],
   "source": [
    "for i in val_df.iloc[1]:\n",
    "    print i"
   ]
  },
  {
   "cell_type": "code",
   "execution_count": 10,
   "metadata": {},
   "outputs": [
    {
     "data": {
      "text/plain": [
       "\"Counter({u'': 1962, u'\\\\u7537': 1695, u'\\\\u5973': 224})\""
      ]
     },
     "execution_count": 10,
     "metadata": {},
     "output_type": "execute_result"
    }
   ],
   "source": [
    "val_df.iloc[1][1]"
   ]
  },
  {
   "cell_type": "code",
   "execution_count": 12,
   "metadata": {},
   "outputs": [
    {
     "data": {
      "text/plain": [
       "7"
      ]
     },
     "execution_count": 12,
     "metadata": {},
     "output_type": "execute_result"
    }
   ],
   "source": [
    "len(val_df.iloc[1])"
   ]
  },
  {
   "cell_type": "code",
   "execution_count": 7,
   "metadata": {},
   "outputs": [
    {
     "data": {
      "text/plain": [
       "\"Counter({u'': 1962, u'\\\\u7537': 1695, u'\\\\u5973': 224})\""
      ]
     },
     "execution_count": 7,
     "metadata": {},
     "output_type": "execute_result"
    }
   ],
   "source": [
    "#in the crime name and select certain value to show\n",
    "val_df.iloc[1]['gender']"
   ]
  },
  {
   "cell_type": "code",
   "execution_count": 8,
   "metadata": {},
   "outputs": [
    {
     "data": {
      "text/plain": [
       "\"Counter({u'': 1962, u'\\\\u7537': 1695, u'\\\\u5973': 224})\""
      ]
     },
     "execution_count": 8,
     "metadata": {},
     "output_type": "execute_result"
    }
   ],
   "source": [
    "val_df.loc[1,'gender']"
   ]
  },
  {
   "cell_type": "code",
   "execution_count": 15,
   "metadata": {
    "collapsed": true
   },
   "outputs": [],
   "source": [
    "for k,v in eval(val_df[val_df.crime_reason=='盗窃']['age'].values[0]).iteritems():\n",
    "    print k\n",
    "    print v"
   ]
  },
  {
   "cell_type": "code",
   "execution_count": 20,
   "metadata": {
    "collapsed": true
   },
   "outputs": [],
   "source": [
    "def split_age_into(age_str):\n",
    "    age_dic={}\n",
    "    age_counter = eval(age_str)\n",
    "    b12_c = 0\n",
    "    r1216 = 0\n",
    "    r1618 = 0\n",
    "    for ak,av in age_counter.items():\n",
    "        print type(ak)\n",
    "        ak = eval(ak)\n",
    "        if 0<ak <12:\n",
    "            b12_c += av\n",
    "            age_dic.update({'b12':b12_c})\n",
    "        if 12<=ak<16:\n",
    "            r1216 += av\n",
    "            age_dic.update({'r1216':r1216})\n",
    "        if 16<=ak<18:\n",
    "            r1618 +=av\n",
    "            age_dic.update({'r1618':r1618})\n",
    "        if 18<ak<99:\n",
    "            age_dic.update({str(ak):av})\n",
    "            #age_dic.up\n",
    "    return age_dic"
   ]
  },
  {
   "cell_type": "code",
   "execution_count": null,
   "metadata": {
    "collapsed": true
   },
   "outputs": [],
   "source": []
  },
  {
   "cell_type": "code",
   "execution_count": 30,
   "metadata": {},
   "outputs": [],
   "source": [
    "theft_age_str = val_df[val_df.crime_reason=='盗窃']['age'].values[0]"
   ]
  },
  {
   "cell_type": "code",
   "execution_count": 31,
   "metadata": {},
   "outputs": [],
   "source": [
    "thf_age_list = split_age_into(theft_age_str)"
   ]
  },
  {
   "cell_type": "code",
   "execution_count": 23,
   "metadata": {
    "scrolled": true
   },
   "outputs": [
    {
     "data": {
      "text/plain": [
       "{'19': 5570,\n",
       " '20': 6840,\n",
       " '21': 7086,\n",
       " '22': 7143,\n",
       " '23': 7274,\n",
       " '24': 7795,\n",
       " '25': 7941,\n",
       " '26': 8106,\n",
       " '27': 7794,\n",
       " '28': 7062,\n",
       " '29': 6649,\n",
       " '30': 6116,\n",
       " '31': 5480,\n",
       " '32': 5419,\n",
       " '33': 5247,\n",
       " '34': 4960,\n",
       " '35': 4771,\n",
       " '36': 4530,\n",
       " '37': 4464,\n",
       " '38': 4520,\n",
       " '39': 4688,\n",
       " '40': 4649,\n",
       " '41': 4704,\n",
       " '42': 4632,\n",
       " '43': 4609,\n",
       " '44': 4493,\n",
       " '45': 4104,\n",
       " '46': 4116,\n",
       " '47': 3435,\n",
       " '48': 3074,\n",
       " '49': 2685,\n",
       " '50': 2408,\n",
       " '51': 2407,\n",
       " '52': 2060,\n",
       " '53': 1490,\n",
       " '54': 1060,\n",
       " '55': 778,\n",
       " '56': 751,\n",
       " '57': 684,\n",
       " '58': 657,\n",
       " '59': 591,\n",
       " '60': 479,\n",
       " '61': 403,\n",
       " '62': 352,\n",
       " '63': 271,\n",
       " '64': 215,\n",
       " '65': 204,\n",
       " '66': 127,\n",
       " '67': 106,\n",
       " '68': 80,\n",
       " '69': 68,\n",
       " '70': 55,\n",
       " '71': 47,\n",
       " '72': 31,\n",
       " '73': 37,\n",
       " '74': 16,\n",
       " '75': 22,\n",
       " '76': 23,\n",
       " '77': 3,\n",
       " '78': 12,\n",
       " '79': 9,\n",
       " '80': 3,\n",
       " '81': 7,\n",
       " '82': 2,\n",
       " '84': 1,\n",
       " '85': 1,\n",
       " '86': 1,\n",
       " '87': 1,\n",
       " '88': 2,\n",
       " '92': 1,\n",
       " '96': 1,\n",
       " 'b12': 1751,\n",
       " 'r1216': 195,\n",
       " 'r1618': 232}"
      ]
     },
     "execution_count": 23,
     "metadata": {},
     "output_type": "execute_result"
    }
   ],
   "source": [
    "thf_age_list"
   ]
  },
  {
   "cell_type": "code",
   "execution_count": 25,
   "metadata": {},
   "outputs": [],
   "source": [
    "tft_age_counter = eval(theft_age_str)"
   ]
  },
  {
   "cell_type": "code",
   "execution_count": 26,
   "metadata": {
    "scrolled": true
   },
   "outputs": [
    {
     "data": {
      "text/plain": [
       "[(u'-5950', 1),\n",
       " (u'0', 316),\n",
       " (u'1', 346),\n",
       " (u'10', 67),\n",
       " (u'105', 1),\n",
       " (u'11', 79),\n",
       " (u'12', 60),\n",
       " (u'13', 52),\n",
       " (u'14', 49),\n",
       " (u'147', 1),\n",
       " (u'15', 34),\n",
       " (u'16', 47),\n",
       " (u'17', 185),\n",
       " (u'18', 1565),\n",
       " (u'19', 5570),\n",
       " (u'2', 230),\n",
       " (u'20', 6840),\n",
       " (u'21', 7086),\n",
       " (u'22', 7143),\n",
       " (u'224', 1),\n",
       " (u'23', 7274),\n",
       " (u'24', 7795),\n",
       " (u'25', 7941),\n",
       " (u'26', 8106),\n",
       " (u'27', 7794),\n",
       " (u'28', 7062),\n",
       " (u'29', 6649),\n",
       " (u'3', 205),\n",
       " (u'30', 6116),\n",
       " (u'31', 5480),\n",
       " (u'32', 5419),\n",
       " (u'33', 5247),\n",
       " (u'34', 4960),\n",
       " (u'35', 4771),\n",
       " (u'36', 4530),\n",
       " (u'37', 4464),\n",
       " (u'38', 4520),\n",
       " (u'39', 4688),\n",
       " (u'4', 180),\n",
       " (u'40', 4649),\n",
       " (u'41', 4704),\n",
       " (u'42', 4632),\n",
       " (u'43', 4609),\n",
       " (u'44', 4493),\n",
       " (u'45', 4104),\n",
       " (u'46', 4116),\n",
       " (u'47', 3435),\n",
       " (u'48', 3074),\n",
       " (u'49', 2685),\n",
       " (u'5', 157),\n",
       " (u'50', 2408),\n",
       " (u'51', 2407),\n",
       " (u'52', 2060),\n",
       " (u'53', 1490),\n",
       " (u'54', 1060),\n",
       " (u'55', 778),\n",
       " (u'56', 751),\n",
       " (u'57', 684),\n",
       " (u'58', 657),\n",
       " (u'59', 591),\n",
       " (u'6', 150),\n",
       " (u'60', 479),\n",
       " (u'61', 403),\n",
       " (u'62', 352),\n",
       " (u'63', 271),\n",
       " (u'64', 215),\n",
       " (u'65', 204),\n",
       " (u'66', 127),\n",
       " (u'67', 106),\n",
       " (u'68', 80),\n",
       " (u'69', 68),\n",
       " (u'7', 120),\n",
       " (u'70', 55),\n",
       " (u'71', 47),\n",
       " (u'72', 31),\n",
       " (u'73', 37),\n",
       " (u'74', 16),\n",
       " (u'75', 22),\n",
       " (u'76', 23),\n",
       " (u'77', 3),\n",
       " (u'78', 12),\n",
       " (u'79', 9),\n",
       " (u'8', 114),\n",
       " (u'80', 3),\n",
       " (u'81', 7),\n",
       " (u'82', 2),\n",
       " (u'84', 1),\n",
       " (u'85', 1),\n",
       " (u'86', 1),\n",
       " (u'87', 1),\n",
       " (u'88', 2),\n",
       " (u'9', 103),\n",
       " (u'92', 1),\n",
       " (u'937', 1),\n",
       " (u'96', 1),\n",
       " (u'999', 1),\n",
       " (u'None', 235247)]"
      ]
     },
     "execution_count": 26,
     "metadata": {},
     "output_type": "execute_result"
    }
   ],
   "source": [
    "sorted(tft_age_counter.items())"
   ]
  },
  {
   "cell_type": "markdown",
   "metadata": {},
   "source": [
    "### nation people number"
   ]
  },
  {
   "cell_type": "code",
   "execution_count": 53,
   "metadata": {},
   "outputs": [],
   "source": [
    "nation_amount = {u'汉族':115940,\n",
    " u'壮族':1617.88 ,\n",
    " u'满族':1068.23,\n",
    "u'回族' :981.68,            \n",
    "u'苗族': 894.01 ,\n",
    "u'维吾尔族':839.94,     \n",
    "u'土家族': 802.81, \n",
    "u'彝族':776.23 ,           \n",
    "u'蒙古族':581.39, \n",
    "u'藏族':541.60,\n",
    " u'布依族':297.15,      \n",
    "u'侗族': 296.03 ,\n",
    "u'瑶族': 263.74  ,       \n",
    "u'朝鲜族':192.38, \n",
    "u'白族':185.81     ,    \n",
    "u'哈尼族':143.97 ,\n",
    "u'哈萨克族':125.05,  \n",
    "u'黎族': 124.78 ,\n",
    "u'傣族':  115.90,\n",
    " u'畲族':    70.96, \n",
    "u'僳僳族':    63.49, \n",
    "u'仡佬族':    57.94 ,\n",
    "u'东乡族':  51.38,\n",
    "u'拉祜族':    45.37, \n",
    "u'水族':    40.69 ,\n",
    "u'佤族':    39.66 ,\n",
    "u'纳西族':    30.88, \n",
    "u'羌族':    30.61 ,\n",
    "u'土族':    24.12 ,\n",
    "u'仫佬族':    20.74, \n",
    "u'锡伯族':    18.88 ,\n",
    "u'柯尔柯孜族':    16.08, \n",
    "u'柯尔克孜族':    16.08,\n",
    "u'达斡尔族':    13.24 ,\n",
    "u'景颇族':    13.21 ,\n",
    "u'毛南族':    10.72 ,\n",
    "u'撒拉族':    10.45,\n",
    "u'布朗族':    9.19 ,\n",
    "u'塔吉克族':    4.10, \n",
    "u'阿昌族':    3.39 ,\n",
    "u'普米族':    3.36 ,\n",
    "u'鄂温克族':    3.05, \n",
    "u'怒族':    2.88 ,\n",
    "u'京族':    2.25 ,\n",
    "u'基诺族':    2.09, \n",
    "u'德昂族':    1.79 ,\n",
    "u'保安族':    1.65 ,\n",
    "u'俄罗斯族':    1.56, \n",
    "u'裕固族':    1.37 ,\n",
    "u'乌孜别克族':    1.24, \n",
    "u'门巴族':    0.89 ,\n",
    "u'鄂伦春族':    0.82, \n",
    "u'独龙族':    0.74 ,\n",
    "u'塔塔尔族':    0.49, \n",
    "u'赫哲族':    0.45 ,\n",
    "u'高山族':    0.45 ,\n",
    "u'珞巴族':    0.29}"
   ]
  },
  {
   "cell_type": "code",
   "execution_count": 54,
   "metadata": {},
   "outputs": [
    {
     "data": {
      "text/plain": [
       "981.68"
      ]
     },
     "execution_count": 54,
     "metadata": {},
     "output_type": "execute_result"
    }
   ],
   "source": [
    "nation_amount[u'回族']"
   ]
  },
  {
   "cell_type": "code",
   "execution_count": 32,
   "metadata": {
    "collapsed": true
   },
   "outputs": [],
   "source": [
    "theft_nation_str = val_df[val_df.crime_reason=='盗窃']['nation'].values[0]"
   ]
  },
  {
   "cell_type": "code",
   "execution_count": 33,
   "metadata": {},
   "outputs": [
    {
     "data": {
      "text/plain": [
       "\"Counter({u'': 424734, u'\\\\u6c49\\\\u65cf': 213684, u'\\\\u58ee\\\\u65cf': 15666, u'\\\\u56de\\\\u65cf': 4228, u'\\\\u82d7\\\\u65cf': 4091, u'\\\\u5f5d\\\\u65cf': 3557, u'\\\\u571f\\\\u5bb6\\\\u65cf': 3315, u'\\\\u6ee1\\\\u65cf': 1978, u'\\\\u85cf\\\\u65cf': 1787, u'\\\\u5e03\\\\u4f9d\\\\u65cf': 1601, u'\\\\u7476\\\\u65cf': 1244, u'\\\\u7ef4\\\\u543e\\\\u5c14\\\\u65cf': 1209, u'\\\\u8499\\\\u53e4\\\\u65cf': 1144, u'\\\\u4f97\\\\u65cf': 996, u'\\\\u4e1c\\\\u4e61\\\\u65cf': 438, u'\\\\u54c8\\\\u5c3c\\\\u65cf': 411, u'\\\\u671d\\\\u9c9c\\\\u65cf': 342, u'\\\\u767d\\\\u65cf': 321, u'\\\\u9ece\\\\u65cf': 287, u'\\\\u4ee1\\\\u4f6c\\\\u65cf': 237, u'\\\\u6c34\\\\u65cf': 216, u'\\\\u4eeb\\\\u4f6c\\\\u65cf': 189, u'\\\\u571f\\\\u65cf': 181, u'\\\\u6bdb\\\\u5357\\\\u65cf': 176, u'\\\\u50a3\\\\u65cf': 168, u'\\\\u7572\\\\u65cf': 152, u'\\\\u7f8c\\\\u65cf': 104, u'\\\\u8fbe\\\\u65a1\\\\u5c14\\\\u65cf': 57, u'\\\\u62c9\\\\u795c\\\\u65cf': 41, u'\\\\u54c8\\\\u8428\\\\u514b\\\\u65cf': 41, u'\\\\u4f64\\\\u65cf': 41, u'\\\\u666f\\\\u9887\\\\u65cf': 40, u'\\\\u9521\\\\u4f2f\\\\u65cf': 28, u'\\\\u9102\\\\u6e29\\\\u514b\\\\u65cf': 24, u'\\\\u6492\\\\u62c9\\\\u65cf': 24, u'\\\\u7eb3\\\\u897f\\\\u65cf': 21, u'\\\\u6012\\\\u65cf': 16, u'\\\\u5fb7\\\\u6602\\\\u65cf': 9, u'\\\\u5e03\\\\u6717\\\\u65cf': 8, u'\\\\u4eac\\\\u65cf': 8, u'\\\\u666e\\\\u7c73\\\\u65cf': 8, u'\\\\u4fdd\\\\u5b89\\\\u65cf': 7, u'\\\\u9102\\\\u4f26\\\\u6625\\\\u65cf': 7, u'\\\\u963f\\\\u660c\\\\u65cf': 5, u'\\\\u67ef\\\\u5c14\\\\u514b\\\\u5b5c\\\\u65cf': 4, u'\\\\u88d5\\\\u56fa\\\\u65cf': 3, u'\\\\u57fa\\\\u8bfa\\\\u65cf': 3, u'\\\\u95e8\\\\u5df4\\\\u65cf': 2, u'\\\\u4fc4\\\\u7f57\\\\u65af\\\\u65cf': 2, u'\\\\u5854\\\\u5854\\\\u5c14\\\\u65cf': 1, u'\\\\u72ec\\\\u9f99\\\\u65cf': 1, u'\\\\u4e4c\\\\u5b5c\\\\u522b\\\\u514b\\\\u65cf': 1, u'\\\\u8d6b\\\\u54f2\\\\u65cf': 1, u'\\\\u9ad8\\\\u5c71\\\\u65cf': 1})\""
      ]
     },
     "execution_count": 33,
     "metadata": {},
     "output_type": "execute_result"
    }
   ],
   "source": [
    "theft_nation_str"
   ]
  },
  {
   "cell_type": "code",
   "execution_count": 58,
   "metadata": {
    "collapsed": true
   },
   "outputs": [],
   "source": [
    "from __future__ import division"
   ]
  },
  {
   "cell_type": "code",
   "execution_count": 59,
   "metadata": {},
   "outputs": [],
   "source": [
    "#get nation 10k crime_rate \n",
    "crime_rate={}\n",
    "for k,v in eval(theft_nation_str).items():\n",
    "    if len(k)>0:\n",
    "        print k\n",
    "        if k in nation_amount:\n",
    "            rate = v/nation_amount[k]\n",
    "            crime_rate[k] = rate"
   ]
  },
  {
   "cell_type": "code",
   "execution_count": 76,
   "metadata": {
    "collapsed": true
   },
   "outputs": [],
   "source": [
    "if u'汉族' in nation_amount :\n",
    "    print 'in'"
   ]
  },
  {
   "cell_type": "code",
   "execution_count": 63,
   "metadata": {
    "collapsed": true
   },
   "outputs": [],
   "source": [
    "import operator"
   ]
  },
  {
   "cell_type": "code",
   "execution_count": 68,
   "metadata": {},
   "outputs": [],
   "source": [
    "sorted_x = sorted(crime_rate.items(), key=operator.itemgetter(1),reverse=True)"
   ]
  },
  {
   "cell_type": "code",
   "execution_count": 79,
   "metadata": {},
   "outputs": [],
   "source": [
    "for i in sorted_x:\n",
    "    print i[0],i[1]"
   ]
  },
  {
   "cell_type": "code",
   "execution_count": 77,
   "metadata": {
    "scrolled": true
   },
   "outputs": [],
   "source": [
    "print sorted_x"
   ]
  },
  {
   "cell_type": "code",
   "execution_count": null,
   "metadata": {
    "collapsed": true
   },
   "outputs": [],
   "source": []
  },
  {
   "cell_type": "code",
   "execution_count": null,
   "metadata": {
    "collapsed": true
   },
   "outputs": [],
   "source": []
  },
  {
   "cell_type": "code",
   "execution_count": null,
   "metadata": {
    "collapsed": true
   },
   "outputs": [],
   "source": []
  },
  {
   "cell_type": "code",
   "execution_count": 29,
   "metadata": {
    "collapsed": true
   },
   "outputs": [],
   "source": [
    "print 'here we go##'\n",
    "for i,v in val_df.crime_reason.iteritems():\n",
    "    #print 'here we go'\n",
    "    if '||' in v :\n",
    "        print v\n",
    "   "
   ]
  },
  {
   "cell_type": "code",
   "execution_count": 51,
   "metadata": {
    "collapsed": true
   },
   "outputs": [],
   "source": [
    "load_path2= '/home/sherlock/withcopu_dic/law_extract/law_extract2/test_multi_col_reason.csv'"
   ]
  },
  {
   "cell_type": "code",
   "execution_count": 52,
   "metadata": {},
   "outputs": [
    {
     "data": {
      "text/html": [
       "<div>\n",
       "<table border=\"1\" class=\"dataframe\">\n",
       "  <thead>\n",
       "    <tr style=\"text-align: right;\">\n",
       "      <th></th>\n",
       "      <th>crime_reason</th>\n",
       "      <th>gender</th>\n",
       "      <th>nation</th>\n",
       "      <th>edu</th>\n",
       "    </tr>\n",
       "  </thead>\n",
       "  <tbody>\n",
       "    <tr>\n",
       "      <th>0</th>\n",
       "      <td>徇私舞弊减刑、假释、暂予监外执行</td>\n",
       "      <td>Counter({u'': 50, u'\\u7537': 34, u'\\u5973': 1})</td>\n",
       "      <td>Counter({u'': 50, u'\\u6c49\\u65cf': 13})</td>\n",
       "      <td>Counter({u'': 50, u'\\u5927\\u5b66': 13, u'\\u9ad...</td>\n",
       "    </tr>\n",
       "    <tr>\n",
       "      <th>1</th>\n",
       "      <td>妨害公务</td>\n",
       "      <td>Counter({u'': 15392, u'\\u7537': 11175, u'\\u597...</td>\n",
       "      <td>Counter({u'': 15392, u'\\u6c49\\u65cf': 8562, u'...</td>\n",
       "      <td>Counter({u'': 15392, u'\\u521d\\u4e2d': 3847, u'...</td>\n",
       "    </tr>\n",
       "    <tr>\n",
       "      <th>2</th>\n",
       "      <td>运送他人偷越国（边）境</td>\n",
       "      <td>Counter({u'\\u7537': 217, u'': 192, u'\\u5973': ...</td>\n",
       "      <td>Counter({u'': 192, u'\\u6c49\\u65cf': 143, u'\\u5...</td>\n",
       "      <td>Counter({u'': 192, u'\\u521d\\u4e2d': 103, u'\\u5...</td>\n",
       "    </tr>\n",
       "    <tr>\n",
       "      <th>3</th>\n",
       "      <td>非法种植毒品原植物</td>\n",
       "      <td>Counter({u'': 1110, u'\\u7537': 490, u'\\u5973':...</td>\n",
       "      <td>Counter({u'': 1110, u'\\u6c49\\u65cf': 583, u'\\u...</td>\n",
       "      <td>Counter({u'': 1110, u'\\u6587\\u76f2': 183, u'\\u...</td>\n",
       "    </tr>\n",
       "    <tr>\n",
       "      <th>4</th>\n",
       "      <td>挪用资金</td>\n",
       "      <td>Counter({u'': 2637, u'\\u7537': 1459, u'\\u5973'...</td>\n",
       "      <td>Counter({u'': 2637, u'\\u6c49\\u65cf': 1179, u'\\...</td>\n",
       "      <td>Counter({u'': 2637, u'\\u521d\\u4e2d': 359, u'\\u...</td>\n",
       "    </tr>\n",
       "    <tr>\n",
       "      <th>5</th>\n",
       "      <td>寻衅滋事</td>\n",
       "      <td>Counter({u'\\u7537': 37522, u'': 36551, u'\\u597...</td>\n",
       "      <td>Counter({u'': 36551, u'\\u6c49\\u65cf': 26046, u...</td>\n",
       "      <td>Counter({u'': 36551, u'\\u521d\\u4e2d': 14397, u...</td>\n",
       "    </tr>\n",
       "  </tbody>\n",
       "</table>\n",
       "</div>"
      ],
      "text/plain": [
       "       crime_reason                                             gender  \\\n",
       "0  徇私舞弊减刑、假释、暂予监外执行    Counter({u'': 50, u'\\u7537': 34, u'\\u5973': 1})   \n",
       "1              妨害公务  Counter({u'': 15392, u'\\u7537': 11175, u'\\u597...   \n",
       "2       运送他人偷越国（边）境  Counter({u'\\u7537': 217, u'': 192, u'\\u5973': ...   \n",
       "3         非法种植毒品原植物  Counter({u'': 1110, u'\\u7537': 490, u'\\u5973':...   \n",
       "4              挪用资金  Counter({u'': 2637, u'\\u7537': 1459, u'\\u5973'...   \n",
       "5              寻衅滋事  Counter({u'\\u7537': 37522, u'': 36551, u'\\u597...   \n",
       "\n",
       "                                              nation  \\\n",
       "0            Counter({u'': 50, u'\\u6c49\\u65cf': 13})   \n",
       "1  Counter({u'': 15392, u'\\u6c49\\u65cf': 8562, u'...   \n",
       "2  Counter({u'': 192, u'\\u6c49\\u65cf': 143, u'\\u5...   \n",
       "3  Counter({u'': 1110, u'\\u6c49\\u65cf': 583, u'\\u...   \n",
       "4  Counter({u'': 2637, u'\\u6c49\\u65cf': 1179, u'\\...   \n",
       "5  Counter({u'': 36551, u'\\u6c49\\u65cf': 26046, u...   \n",
       "\n",
       "                                                 edu  \n",
       "0  Counter({u'': 50, u'\\u5927\\u5b66': 13, u'\\u9ad...  \n",
       "1  Counter({u'': 15392, u'\\u521d\\u4e2d': 3847, u'...  \n",
       "2  Counter({u'': 192, u'\\u521d\\u4e2d': 103, u'\\u5...  \n",
       "3  Counter({u'': 1110, u'\\u6587\\u76f2': 183, u'\\u...  \n",
       "4  Counter({u'': 2637, u'\\u521d\\u4e2d': 359, u'\\u...  \n",
       "5  Counter({u'': 36551, u'\\u521d\\u4e2d': 14397, u...  "
      ]
     },
     "execution_count": 52,
     "metadata": {},
     "output_type": "execute_result"
    }
   ],
   "source": [
    "mul_col_df = pd.read_csv(load_path2)\n",
    "mul_col_df.head(6)"
   ]
  },
  {
   "cell_type": "code",
   "execution_count": 50,
   "metadata": {
    "collapsed": true
   },
   "outputs": [],
   "source": [
    "print 'here we go##'\n",
    "for i,v in mul_col_df.crime_reason.iteritems():\n",
    "    #print 'here we go'\n",
    "    if '|' in v :\n",
    "        print v"
   ]
  },
  {
   "cell_type": "code",
   "execution_count": null,
   "metadata": {
    "collapsed": true
   },
   "outputs": [],
   "source": []
  },
  {
   "cell_type": "code",
   "execution_count": null,
   "metadata": {
    "collapsed": true
   },
   "outputs": [],
   "source": []
  },
  {
   "cell_type": "code",
   "execution_count": null,
   "metadata": {
    "collapsed": true
   },
   "outputs": [],
   "source": []
  },
  {
   "cell_type": "code",
   "execution_count": 36,
   "metadata": {},
   "outputs": [
    {
     "data": {
      "text/html": [
       "<div>\n",
       "<table border=\"1\" class=\"dataframe\">\n",
       "  <thead>\n",
       "    <tr style=\"text-align: right;\">\n",
       "      <th></th>\n",
       "      <th>crime_reason</th>\n",
       "      <th>gender</th>\n",
       "      <th>nation</th>\n",
       "    </tr>\n",
       "  </thead>\n",
       "  <tbody>\n",
       "    <tr>\n",
       "      <th>5</th>\n",
       "      <td>故意伤害</td>\n",
       "      <td>Counter({u'': 4, u'\\u7537': 2})</td>\n",
       "      <td>Counter({u'': 4})</td>\n",
       "    </tr>\n",
       "  </tbody>\n",
       "</table>\n",
       "</div>"
      ],
      "text/plain": [
       "  crime_reason                           gender             nation\n",
       "5         故意伤害  Counter({u'': 4, u'\\u7537': 2})  Counter({u'': 4})"
      ]
     },
     "execution_count": 36,
     "metadata": {},
     "output_type": "execute_result"
    }
   ],
   "source": [
    "val_df[val_df.crime_reason==\"故意伤害\"]"
   ]
  },
  {
   "cell_type": "code",
   "execution_count": 20,
   "metadata": {
    "collapsed": true
   },
   "outputs": [],
   "source": [
    "for i in eval(val_df.loc[0,'nation']).keys():print i"
   ]
  },
  {
   "cell_type": "code",
   "execution_count": 21,
   "metadata": {},
   "outputs": [
    {
     "data": {
      "text/plain": [
       "\"Counter({u'': 7124, u'\\\\u7537': 5303, u'\\\\u5973': 538})\""
      ]
     },
     "execution_count": 21,
     "metadata": {},
     "output_type": "execute_result"
    }
   ],
   "source": [
    "val_df.loc[0,'gender']"
   ]
  },
  {
   "cell_type": "code",
   "execution_count": 22,
   "metadata": {},
   "outputs": [
    {
     "data": {
      "text/plain": [
       "\"Counter({u'': 1069, u'\\\\u7537': 766, u'\\\\u5973': 79})\""
      ]
     },
     "execution_count": 22,
     "metadata": {},
     "output_type": "execute_result"
    }
   ],
   "source": [
    "val_df.loc[1,'gender']"
   ]
  },
  {
   "cell_type": "code",
   "execution_count": 23,
   "metadata": {},
   "outputs": [
    {
     "data": {
      "text/plain": [
       "\"Counter({u'': 7124, u'\\\\u6c49\\\\u65cf': 3597, u'\\\\u6ee1\\\\u65cf': 104, u'\\\\u8499\\\\u53e4\\\\u65cf': 69, u'\\\\u56de\\\\u65cf': 20, u'\\\\u5f5d\\\\u65cf': 13, u'\\\\u7ef4\\\\u543e\\\\u5c14\\\\u65cf': 11})\""
      ]
     },
     "execution_count": 23,
     "metadata": {},
     "output_type": "execute_result"
    }
   ],
   "source": [
    "val_df.loc[0,'nation']"
   ]
  },
  {
   "cell_type": "code",
   "execution_count": 24,
   "metadata": {},
   "outputs": [
    {
     "data": {
      "text/plain": [
       "\"Counter({u'': 1069, u'\\\\u6c49\\\\u65cf': 526, u'\\\\u6ee1\\\\u65cf': 12, u'\\\\u8499\\\\u53e4\\\\u65cf': 11, u'\\\\u5f5d\\\\u65cf': 3, u'\\\\u56de\\\\u65cf': 2, u'\\\\u7ef4\\\\u543e\\\\u5c14\\\\u65cf': 2})\""
      ]
     },
     "execution_count": 24,
     "metadata": {},
     "output_type": "execute_result"
    }
   ],
   "source": [
    "val_df.loc[1,'nation']"
   ]
  },
  {
   "cell_type": "code",
   "execution_count": null,
   "metadata": {
    "collapsed": true
   },
   "outputs": [],
   "source": [
    "v"
   ]
  },
  {
   "cell_type": "code",
   "execution_count": 13,
   "metadata": {
    "collapsed": true
   },
   "outputs": [],
   "source": [
    "%matplotlib inline"
   ]
  },
  {
   "cell_type": "code",
   "execution_count": 14,
   "metadata": {},
   "outputs": [
    {
     "data": {
      "text/plain": [
       "(u'\\u5973', u'\\u7537')"
      ]
     },
     "execution_count": 14,
     "metadata": {},
     "output_type": "execute_result"
    }
   ],
   "source": [
    "attr = tuple(count.keys()[1:])\n",
    "attr"
   ]
  },
  {
   "cell_type": "code",
   "execution_count": 16,
   "metadata": {},
   "outputs": [
    {
     "data": {
      "text/plain": [
       "array([0, 1])"
      ]
     },
     "execution_count": 16,
     "metadata": {},
     "output_type": "execute_result"
    }
   ],
   "source": [
    "attr_pos = np.arange(len(attr))\n",
    "attr_pos"
   ]
  },
  {
   "cell_type": "code",
   "execution_count": 15,
   "metadata": {
    "scrolled": true
   },
   "outputs": [
    {
     "data": {
      "text/plain": [
       "[274, 34, 280]"
      ]
     },
     "execution_count": 15,
     "metadata": {},
     "output_type": "execute_result"
    }
   ],
   "source": [
    "count.values()"
   ]
  },
  {
   "cell_type": "code",
   "execution_count": 20,
   "metadata": {
    "collapsed": true
   },
   "outputs": [],
   "source": [
    "plt.rcParams['font.sans-serif']=['SimHei'] #用来正常显示中文标签\n",
    "plt.rcParams['axes.unicode_minus']=False #用来正常显示负号"
   ]
  },
  {
   "cell_type": "code",
   "execution_count": 21,
   "metadata": {},
   "outputs": [
    {
     "data": {
      "image/png": "[encoded data removed]",
      "text/plain": [
       "<matplotlib.figure.Figure at 0x7f064bf92750>"
      ]
     },
     "metadata": {},
     "output_type": "display_data"
    }
   ],
   "source": [
    "plt.bar(attr_pos,count.values()[1:],align='center')\n",
    "plt.xticks(attr_pos,attr)\n",
    "plt.ylabel('Count')\n",
    "plt.title('gender count')\n",
    "plt.show()"
   ]
  },
  {
   "cell_type": "markdown",
   "metadata": {},
   "source": [
    "- todo:可视化搜索"
   ]
  },
  {
   "cell_type": "code",
   "execution_count": null,
   "metadata": {
    "collapsed": true
   },
   "outputs": [],
   "source": []
  }
 ],
 "metadata": {
  "kernelspec": {
   "display_name": "Python 2",
   "language": "python",
   "name": "python2"
  },
  "language_info": {
   "codemirror_mode": {
    "name": "ipython",
    "version": 2
   },
   "file_extension": ".py",
   "mimetype": "text/x-python",
   "name": "python",
   "nbconvert_exporter": "python",
   "pygments_lexer": "ipython2",
   "version": "2.7.6"
  }
 },
 "nbformat": 4,
 "nbformat_minor": 2
}
