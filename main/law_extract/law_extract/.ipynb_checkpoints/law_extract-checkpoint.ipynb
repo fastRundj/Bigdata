{
 "cells": [
  {
   "cell_type": "code",
   "execution_count": 1,
   "metadata": {
    "collapsed": true
   },
   "outputs": [],
   "source": [
    "#-*-coding:utf8-*-"
   ]
  },
  {
   "cell_type": "code",
   "execution_count": 2,
   "metadata": {
    "collapsed": true
   },
   "outputs": [],
   "source": [
    "import pandas as pd\n",
    "import numpy as np\n",
    "import sys\n",
    "reload(sys)"
   ]
  },
  {
   "cell_type": "code",
   "execution_count": 6,
   "metadata": {
    "collapsed": true
   },
   "outputs": [],
   "source": [
    "sys.setdefaultencoding('utf8')"
   ]
  },
  {
   "cell_type": "code",
   "execution_count": 4,
   "metadata": {
    "collapsed": true
   },
   "outputs": [],
   "source": [
    "law_path = '/media/sherlock/new30/law/jun28InfoExtractor/tb_doc.csv'"
   ]
  },
  {
   "cell_type": "code",
   "execution_count": 6,
   "metadata": {
    "collapsed": true
   },
   "outputs": [],
   "source": [
    "law_df = pd.read_csv(law_path)"
   ]
  },
  {
   "cell_type": "code",
   "execution_count": 7,
   "metadata": {
    "scrolled": true
   },
   "outputs": [
    {
     "data": {
      "text/html": [
       "<div>\n",
       "<table border=\"1\" class=\"dataframe\">\n",
       "  <thead>\n",
       "    <tr style=\"text-align: right;\">\n",
       "      <th></th>\n",
       "      <th>id</th>\n",
       "      <th>uuid</th>\n",
       "      <th>caseid</th>\n",
       "      <th>title</th>\n",
       "      <th>doc_reason</th>\n",
       "      <th>doc_oriligigation</th>\n",
       "      <th>fact_finder</th>\n",
       "      <th>court</th>\n",
       "      <th>lawlist</th>\n",
       "      <th>record_time</th>\n",
       "      <th>...</th>\n",
       "      <th>type</th>\n",
       "      <th>reason_type</th>\n",
       "      <th>judge_type</th>\n",
       "      <th>result_type</th>\n",
       "      <th>doc_content</th>\n",
       "      <th>update_time</th>\n",
       "      <th>doc_from</th>\n",
       "      <th>reason</th>\n",
       "      <th>is_crawl</th>\n",
       "      <th>is_format</th>\n",
       "    </tr>\n",
       "  </thead>\n",
       "  <tbody>\n",
       "    <tr>\n",
       "      <th>0</th>\n",
       "      <td>1</td>\n",
       "      <td>b26d4afe-e133-41fc-99c6-35b5036dd372</td>\n",
       "      <td>（2016）晋0823刑初26号</td>\n",
       "      <td>被告人任新生危险驾驶一审刑事判决书</td>\n",
       "      <td>{\"任新生\": [\"危险驾驶罪\"]}</td>\n",
       "      <td>山西省闻喜县人民检察院</td>\n",
       "      <td>张方舟</td>\n",
       "      <td>闻喜县人民法院</td>\n",
       "      <td>[\"《中华人民共和国刑法》第一百三十三条\", \"《中华人民共和国刑法》第五十二条\"]</td>\n",
       "      <td>2016-03-08</td>\n",
       "      <td>...</td>\n",
       "      <td>一审</td>\n",
       "      <td>刑事</td>\n",
       "      <td>判决书</td>\n",
       "      <td>NaN</td>\n",
       "      <td>&amp;lt;a type=&amp;#x27;dir&amp;#x27; name=&amp;#x27;WBSB&amp;#x2...</td>\n",
       "      <td>2017/6/27 17:36:55</td>\n",
       "      <td>wenshu-gov</td>\n",
       "      <td>危险驾驶</td>\n",
       "      <td>1</td>\n",
       "      <td>1</td>\n",
       "    </tr>\n",
       "    <tr>\n",
       "      <th>1</th>\n",
       "      <td>2</td>\n",
       "      <td>70096ade-af81-4a84-b637-97c8861fae82</td>\n",
       "      <td>（2016）京0108刑初1928号</td>\n",
       "      <td>佟杰贩卖毒品罪一审刑事判决书</td>\n",
       "      <td>{\"佟杰\": [\"贩卖毒品罪\"]}</td>\n",
       "      <td>北京市海淀区人民检察院</td>\n",
       "      <td>李刚</td>\n",
       "      <td>北京市海淀区人民法院</td>\n",
       "      <td>[\"《中华人民共和国刑法》第三百四十七条第一款、第四款\", \"《中华人民共和国刑法》第六十五...</td>\n",
       "      <td>2016-10-06</td>\n",
       "      <td>...</td>\n",
       "      <td>一审</td>\n",
       "      <td>刑事</td>\n",
       "      <td>判决书</td>\n",
       "      <td>NaN</td>\n",
       "      <td>&amp;lt;a type=&amp;#x27;dir&amp;#x27; name=&amp;#x27;WBSB&amp;#x2...</td>\n",
       "      <td>2017/6/27 17:36:55</td>\n",
       "      <td>wenshu-gov</td>\n",
       "      <td>走私、贩卖、运输、制造毒品</td>\n",
       "      <td>1</td>\n",
       "      <td>1</td>\n",
       "    </tr>\n",
       "  </tbody>\n",
       "</table>\n",
       "<p>2 rows × 35 columns</p>\n",
       "</div>"
      ],
      "text/plain": [
       "   id                                  uuid              caseid  \\\n",
       "0   1  b26d4afe-e133-41fc-99c6-35b5036dd372    （2016）晋0823刑初26号   \n",
       "1   2  70096ade-af81-4a84-b637-97c8861fae82  （2016）京0108刑初1928号   \n",
       "\n",
       "               title          doc_reason doc_oriligigation fact_finder  \\\n",
       "0  被告人任新生危险驾驶一审刑事判决书  {\"任新生\": [\"危险驾驶罪\"]}       山西省闻喜县人民检察院         张方舟   \n",
       "1     佟杰贩卖毒品罪一审刑事判决书   {\"佟杰\": [\"贩卖毒品罪\"]}       北京市海淀区人民检察院          李刚   \n",
       "\n",
       "        court                                            lawlist record_time  \\\n",
       "0     闻喜县人民法院         [\"《中华人民共和国刑法》第一百三十三条\", \"《中华人民共和国刑法》第五十二条\"]  2016-03-08   \n",
       "1  北京市海淀区人民法院  [\"《中华人民共和国刑法》第三百四十七条第一款、第四款\", \"《中华人民共和国刑法》第六十五...  2016-10-06   \n",
       "\n",
       "     ...    type reason_type judge_type result_type  \\\n",
       "0    ...      一审          刑事        判决书         NaN   \n",
       "1    ...      一审          刑事        判决书         NaN   \n",
       "\n",
       "                                         doc_content         update_time  \\\n",
       "0  &lt;a type=&#x27;dir&#x27; name=&#x27;WBSB&#x2...  2017/6/27 17:36:55   \n",
       "1  &lt;a type=&#x27;dir&#x27; name=&#x27;WBSB&#x2...  2017/6/27 17:36:55   \n",
       "\n",
       "     doc_from         reason is_crawl is_format  \n",
       "0  wenshu-gov           危险驾驶        1         1  \n",
       "1  wenshu-gov  走私、贩卖、运输、制造毒品        1         1  \n",
       "\n",
       "[2 rows x 35 columns]"
      ]
     },
     "execution_count": 7,
     "metadata": {},
     "output_type": "execute_result"
    }
   ],
   "source": [
    "law_df.head(2)"
   ]
  },
  {
   "cell_type": "code",
   "execution_count": 8,
   "metadata": {
    "collapsed": true
   },
   "outputs": [
    {
     "data": {
      "text/plain": [
       "id                                                                   1\n",
       "uuid                              b26d4afe-e133-41fc-99c6-35b5036dd372\n",
       "caseid                                                （2016）晋0823刑初26号\n",
       "title                                                被告人任新生危险驾驶一审刑事判决书\n",
       "doc_reason                                          {\"任新生\": [\"危险驾驶罪\"]}\n",
       "doc_oriligigation                                          山西省闻喜县人民检察院\n",
       "fact_finder                                                        张方舟\n",
       "court                                                          闻喜县人民法院\n",
       "lawlist                     [\"《中华人民共和国刑法》第一百三十三条\", \"《中华人民共和国刑法》第五十二条\"]\n",
       "record_time                                                 2016-03-08\n",
       "casedate                                                    2016-03-16\n",
       "timeline             [[\"2016-03-08\", \"起诉\"], [\"2016-03-08\", \"立案\"], [...\n",
       "party_info           公诉机关山西省闻喜县人民检察院。\\n被告人任新生，曾用名任广敏，男，1972年3月16日出生...\n",
       "defendant                                                          NaN\n",
       "plaintiff                                                          NaN\n",
       "third                                                              NaN\n",
       "trial_process        山西省闻喜县人民检察院以闻检公诉刑诉（2016）12号起诉书指控被告人任新生犯危险驾驶罪，于...\n",
       "trial_request                                                      NaN\n",
       "trial_reply                                                        NaN\n",
       "court_find           经审理查明，2015年11月30日15时48分，被告人任新生醉酒后驾驶鲁R*****起亚牌小...\n",
       "court_idea           本院认为，被告人任新生醉酒后驾驶机动车在高速公路上行驶，其行为已构成危险驾驶罪，且应从重处罚...\n",
       "judge_result         被告人任新生犯危险驾驶罪，判处拘役二个月，并处罚金人民币2000元（已缴纳）。\\n（刑期从判...\n",
       "judge_chief                                                        NaN\n",
       "judge_member                                                       尹国锋\n",
       "history                                                            NaN\n",
       "type                                                                一审\n",
       "reason_type                                                         刑事\n",
       "judge_type                                                         判决书\n",
       "result_type                                                        NaN\n",
       "doc_content          &lt;a type=&#x27;dir&#x27; name=&#x27;WBSB&#x2...\n",
       "update_time                                         2017/6/27 17:36:55\n",
       "doc_from                                                    wenshu-gov\n",
       "reason                                                            危险驾驶\n",
       "is_crawl                                                             1\n",
       "is_format                                                            1\n",
       "Name: 0, dtype: object"
      ]
     },
     "execution_count": 8,
     "metadata": {},
     "output_type": "execute_result"
    }
   ],
   "source": [
    "law_df.iloc[0]"
   ]
  },
  {
   "cell_type": "code",
   "execution_count": 9,
   "metadata": {
    "collapsed": true
   },
   "outputs": [],
   "source": [
    "parse_list = law_df.loc[30,'doc_content'].split(';')[:200]"
   ]
  },
  {
   "cell_type": "code",
   "execution_count": 10,
   "metadata": {
    "collapsed": true
   },
   "outputs": [],
   "source": [
    "for i in parse_list:\n",
    "    print i"
   ]
  },
  {
   "cell_type": "code",
   "execution_count": 11,
   "metadata": {
    "collapsed": true
   },
   "outputs": [
    {
     "data": {
      "text/plain": [
       "id                                                                  32\n",
       "uuid                              b8d53496-c7f3-4d7a-acd5-b44bbf1417ef\n",
       "caseid                                               （2016）苏0104刑初478号\n",
       "title                                               被告人丁某某贩卖毒品罪一审刑事判决书\n",
       "doc_reason                                          {\"丁某某\": [\"贩卖毒品罪\"]}\n",
       "doc_oriligigation                                          南京市秦淮区人民检察院\n",
       "fact_finder                                                        卜向敏\n",
       "court                                                       南京市秦淮区人民法院\n",
       "lawlist              [\"《中华人民共和国刑法》第三百四十七条第一、四款\", \"《中华人民共和国刑法》第六十五条第...\n",
       "record_time                                                 2016-06-17\n",
       "casedate                                                    2016-06-29\n",
       "timeline             [[\"2016-06-17\", \"起诉\"], [\"2016-06-17\", \"立案\"], [...\n",
       "party_info           公诉机关南京市秦淮区人民检察院。\\n被告人丁某某，男，1964年12月14日出生，汉族，小学...\n",
       "defendant                                                          NaN\n",
       "plaintiff                                                          NaN\n",
       "third                                                              NaN\n",
       "trial_process        南京市秦淮区人民检察院以宁秦检诉刑诉（2016）442号起诉书指控被告人丁某某犯贩卖毒品罪，...\n",
       "trial_request        南京市秦淮区人民检察院指控，2016年4月28日17时许，被告人丁某某在本市玄武区锁金村1号...\n",
       "trial_reply                                                        NaN\n",
       "court_find           上述事实，被告人丁某某在开庭审理过程中亦无异议，且有证人顾某的证言及辨认笔录、搜查笔录、扣押...\n",
       "court_idea           本院认为，被告人丁某某明知是毒品而贩卖，其行为已构成贩卖毒品罪，依法应予惩处。南京市秦淮区人...\n",
       "judge_result         被告人丁某某犯贩卖毒品罪，判处有期徒刑八个月，罚金人民币二千元。\\n（刑期从判决执行之日起计...\n",
       "judge_chief                                                        NaN\n",
       "judge_member                                                        陈策\n",
       "history                                                            NaN\n",
       "type                                                                一审\n",
       "reason_type                                                         刑事\n",
       "judge_type                                                         判决书\n",
       "result_type                                                        NaN\n",
       "doc_content          &lt;a type=&#x27;dir&#x27; name=&#x27;WBSB&#x2...\n",
       "update_time                                         2017/6/27 17:36:55\n",
       "doc_from                                                    wenshu-gov\n",
       "reason                                                   走私、贩卖、运输、制造毒品\n",
       "is_crawl                                                             1\n",
       "is_format                                                            1\n",
       "Name: 31, dtype: object"
      ]
     },
     "execution_count": 11,
     "metadata": {},
     "output_type": "execute_result"
    }
   ],
   "source": [
    "law_df.iloc[31]"
   ]
  },
  {
   "cell_type": "code",
   "execution_count": 12,
   "metadata": {
    "collapsed": true
   },
   "outputs": [],
   "source": [
    "print law_df.loc[36,'party_info'] # 律师事务所在party_info里面"
   ]
  },
  {
   "cell_type": "code",
   "execution_count": 13,
   "metadata": {
    "collapsed": true
   },
   "outputs": [],
   "source": [
    "idx =36\n",
    "print law_df.loc[idx,'party_info'] \n",
    "print '######################0'\n",
    "print law_df.loc[idx,'trial_request']\n",
    "print \"######################1\"\n",
    "print law_df.loc[idx,'trial_process']\n",
    "print '######################2'\n",
    "print law_df.loc[idx,'trial_reply']\n",
    "print '######################3'\n",
    "print law_df.loc[idx,'court_idea']\n",
    "print '######################4'\n",
    "print law_df.loc[idx,'judge_result']"
   ]
  },
  {
   "cell_type": "markdown",
   "metadata": {},
   "source": [
    "#### Below try the regex"
   ]
  },
  {
   "cell_type": "code",
   "execution_count": 7,
   "metadata": {
    "collapsed": true
   },
   "outputs": [],
   "source": [
    "from pyltp import Segmentor\n",
    "from pyltp import Postagger\n",
    "from pyltp import NamedEntityRecognizer"
   ]
  },
  {
   "cell_type": "code",
   "execution_count": 8,
   "metadata": {
    "collapsed": true
   },
   "outputs": [],
   "source": [
    "import re"
   ]
  },
  {
   "cell_type": "code",
   "execution_count": 9,
   "metadata": {
    "collapsed": true
   },
   "outputs": [],
   "source": [
    "segmentor = Segmentor()  # 初始化实例\n",
    "segmentor.load('/home/sherlock/Documents/ltp_data/cws.model')\n",
    "#实例化词性工具\n",
    "postagger = Postagger() # 初始化实例\n",
    "postagger.load('/home/sherlock/Documents/ltp_data/pos.model')  # 加载模型\n",
    "recognizer = NamedEntityRecognizer()\n",
    "recognizer.load('/home/sherlock/Documents/ltp_data/ner.model')"
   ]
  },
  {
   "cell_type": "code",
   "execution_count": 10,
   "metadata": {
    "collapsed": true
   },
   "outputs": [],
   "source": [
    "def wdseg(inputstr,ret_type):\n",
    "\n",
    "\n",
    "    words = segmentor.segment(inputstr)  # 分词\n",
    "    if ret_type == 'str':\n",
    "        seg_word = ' '.join(words)\n",
    "    if ret_type == 'lst':\n",
    "        seg_word = ' '.join(words)\n",
    "        seg_word = seg_word.split()\n",
    "\n",
    "    #segmentor.release()  # 释放模型\n",
    "    return seg_word"
   ]
  },
  {
   "cell_type": "code",
   "execution_count": 11,
   "metadata": {
    "collapsed": true
   },
   "outputs": [],
   "source": [
    "def deleCnbiaodian(line):\n",
    "    #替换中文标点\n",
    "    line = line.decode('utf8')\n",
    "    string = re.sub(\"[\\s+\\.\\!\\/_,$%^*(+\\\"\\']+|[+——！，。？、~@#￥%……&*（）]+\".decode(\"utf8\"), \"\".decode(\"utf8\"),line)\n",
    "    #regex = re.compile(ur\"[，, 。、；！：（）“”《》？_]\")\n",
    "    return string"
   ]
  },
  {
   "cell_type": "code",
   "execution_count": 12,
   "metadata": {
    "collapsed": true
   },
   "outputs": [],
   "source": [
    "import time"
   ]
  },
  {
   "cell_type": "code",
   "execution_count": 13,
   "metadata": {
    "collapsed": true
   },
   "outputs": [],
   "source": [
    "nation = u'汉族、蒙古族、回族、藏族、维吾尔族、苗族、彝族、壮族、布依族、朝鲜族、满族、侗族、瑶族、白族、土家族、哈尼族、哈萨克族、傣族、黎族、僳僳族、佤族、畲族、高山族、拉祜族、水族、东乡族、纳西族、景颇族、柯尔克孜族、土族、达斡尔族、仫佬族、羌族、布朗族、撒拉族、毛南族、仡佬族、锡伯族、阿昌族、普米族、塔吉克族、怒族、乌孜别克族、俄罗斯族、鄂温克族、德昂族、保安族、裕固族、京族、塔塔尔族、独龙族、鄂伦春族、赫哲族、门巴族、珞巴族、基诺族'"
   ]
  },
  {
   "cell_type": "code",
   "execution_count": 14,
   "metadata": {
    "collapsed": true
   },
   "outputs": [],
   "source": [
    "nation_list = nation.split('、')"
   ]
  },
  {
   "cell_type": "code",
   "execution_count": 15,
   "metadata": {
    "scrolled": true
   },
   "outputs": [
    {
     "data": {
      "text/plain": [
       "[u'\\u6c49\\u65cf',\n",
       " u'\\u8499\\u53e4\\u65cf',\n",
       " u'\\u56de\\u65cf',\n",
       " u'\\u85cf\\u65cf',\n",
       " u'\\u7ef4\\u543e\\u5c14\\u65cf',\n",
       " u'\\u82d7\\u65cf',\n",
       " u'\\u5f5d\\u65cf',\n",
       " u'\\u58ee\\u65cf',\n",
       " u'\\u5e03\\u4f9d\\u65cf',\n",
       " u'\\u671d\\u9c9c\\u65cf',\n",
       " u'\\u6ee1\\u65cf',\n",
       " u'\\u4f97\\u65cf',\n",
       " u'\\u7476\\u65cf',\n",
       " u'\\u767d\\u65cf',\n",
       " u'\\u571f\\u5bb6\\u65cf',\n",
       " u'\\u54c8\\u5c3c\\u65cf',\n",
       " u'\\u54c8\\u8428\\u514b\\u65cf',\n",
       " u'\\u50a3\\u65cf',\n",
       " u'\\u9ece\\u65cf',\n",
       " u'\\u50f3\\u50f3\\u65cf',\n",
       " u'\\u4f64\\u65cf',\n",
       " u'\\u7572\\u65cf',\n",
       " u'\\u9ad8\\u5c71\\u65cf',\n",
       " u'\\u62c9\\u795c\\u65cf',\n",
       " u'\\u6c34\\u65cf',\n",
       " u'\\u4e1c\\u4e61\\u65cf',\n",
       " u'\\u7eb3\\u897f\\u65cf',\n",
       " u'\\u666f\\u9887\\u65cf',\n",
       " u'\\u67ef\\u5c14\\u514b\\u5b5c\\u65cf',\n",
       " u'\\u571f\\u65cf',\n",
       " u'\\u8fbe\\u65a1\\u5c14\\u65cf',\n",
       " u'\\u4eeb\\u4f6c\\u65cf',\n",
       " u'\\u7f8c\\u65cf',\n",
       " u'\\u5e03\\u6717\\u65cf',\n",
       " u'\\u6492\\u62c9\\u65cf',\n",
       " u'\\u6bdb\\u5357\\u65cf',\n",
       " u'\\u4ee1\\u4f6c\\u65cf',\n",
       " u'\\u9521\\u4f2f\\u65cf',\n",
       " u'\\u963f\\u660c\\u65cf',\n",
       " u'\\u666e\\u7c73\\u65cf',\n",
       " u'\\u5854\\u5409\\u514b\\u65cf',\n",
       " u'\\u6012\\u65cf',\n",
       " u'\\u4e4c\\u5b5c\\u522b\\u514b\\u65cf',\n",
       " u'\\u4fc4\\u7f57\\u65af\\u65cf',\n",
       " u'\\u9102\\u6e29\\u514b\\u65cf',\n",
       " u'\\u5fb7\\u6602\\u65cf',\n",
       " u'\\u4fdd\\u5b89\\u65cf',\n",
       " u'\\u88d5\\u56fa\\u65cf',\n",
       " u'\\u4eac\\u65cf',\n",
       " u'\\u5854\\u5854\\u5c14\\u65cf',\n",
       " u'\\u72ec\\u9f99\\u65cf',\n",
       " u'\\u9102\\u4f26\\u6625\\u65cf',\n",
       " u'\\u8d6b\\u54f2\\u65cf',\n",
       " u'\\u95e8\\u5df4\\u65cf',\n",
       " u'\\u73de\\u5df4\\u65cf',\n",
       " u'\\u57fa\\u8bfa\\u65cf']"
      ]
     },
     "execution_count": 15,
     "metadata": {},
     "output_type": "execute_result"
    }
   ],
   "source": [
    "nation_list"
   ]
  },
  {
   "cell_type": "code",
   "execution_count": 16,
   "metadata": {
    "collapsed": true
   },
   "outputs": [],
   "source": [
    "agenda_list = [u'男',u'女']"
   ]
  },
  {
   "cell_type": "code",
   "execution_count": 17,
   "metadata": {
    "collapsed": true
   },
   "outputs": [],
   "source": [
    "xueli_list = [u'文盲',u'小学',u'中学',u'初中',u'高中',u'大学',u'本科',u'硕士',u'研究生',u'博士',u'博士后']"
   ]
  },
  {
   "cell_type": "code",
   "execution_count": 18,
   "metadata": {},
   "outputs": [
    {
     "data": {
      "text/plain": [
       "[u'\\u6587\\u76f2',\n",
       " u'\\u5c0f\\u5b66',\n",
       " u'\\u4e2d\\u5b66',\n",
       " u'\\u521d\\u4e2d',\n",
       " u'\\u9ad8\\u4e2d',\n",
       " u'\\u5927\\u5b66',\n",
       " u'\\u672c\\u79d1',\n",
       " u'\\u7855\\u58eb',\n",
       " u'\\u7814\\u7a76\\u751f',\n",
       " u'\\u535a\\u58eb',\n",
       " u'\\u535a\\u58eb\\u540e']"
      ]
     },
     "execution_count": 18,
     "metadata": {},
     "output_type": "execute_result"
    }
   ],
   "source": [
    "xueli_list"
   ]
  },
  {
   "cell_type": "code",
   "execution_count": 19,
   "metadata": {},
   "outputs": [
    {
     "ename": "NameError",
     "evalue": "name 'law_df' is not defined",
     "output_type": "error",
     "traceback": [
      "\u001b[0;31m---------------------------------------------------------------------------\u001b[0m",
      "\u001b[0;31mNameError\u001b[0m                                 Traceback (most recent call last)",
      "\u001b[0;32m<ipython-input-19-50cf3e53653c>\u001b[0m in \u001b[0;36m<module>\u001b[0;34m()\u001b[0m\n\u001b[0;32m----> 1\u001b[0;31m \u001b[0;32mprint\u001b[0m \u001b[0mlaw_df\u001b[0m\u001b[0;34m.\u001b[0m\u001b[0mloc\u001b[0m\u001b[0;34m[\u001b[0m\u001b[0;36m36\u001b[0m\u001b[0;34m,\u001b[0m\u001b[0;34m'party_info'\u001b[0m\u001b[0;34m]\u001b[0m\u001b[0;34m\u001b[0m\u001b[0m\n\u001b[0m",
      "\u001b[0;31mNameError\u001b[0m: name 'law_df' is not defined"
     ]
    }
   ],
   "source": [
    "print law_df.loc[36,'party_info']"
   ]
  },
  {
   "cell_type": "code",
   "execution_count": 34,
   "metadata": {
    "collapsed": true
   },
   "outputs": [],
   "source": [
    "test_str = law_df.loc[36,'party_info'].split('。')"
   ]
  },
  {
   "cell_type": "code",
   "execution_count": 35,
   "metadata": {
    "collapsed": true
   },
   "outputs": [],
   "source": [
    "info_list = test_str[1:]"
   ]
  },
  {
   "cell_type": "code",
   "execution_count": 36,
   "metadata": {
    "collapsed": true
   },
   "outputs": [],
   "source": [
    "print law_df.loc[31,'party_info']"
   ]
  },
  {
   "cell_type": "code",
   "execution_count": 37,
   "metadata": {
    "collapsed": true
   },
   "outputs": [],
   "source": [
    "info_words = wdseg( deleCnbiaodian(law_df.loc[31,'party_info']).encode('utf8'),'lst')"
   ]
  },
  {
   "cell_type": "code",
   "execution_count": 38,
   "metadata": {
    "collapsed": true
   },
   "outputs": [],
   "source": [
    "for ww in info_words:print ww"
   ]
  },
  {
   "cell_type": "code",
   "execution_count": 39,
   "metadata": {
    "collapsed": true
   },
   "outputs": [],
   "source": [
    "for i in info_words:\n",
    "    i = i.decode('utf8')\n",
    "    if i in agenda_list:\n",
    "        print type(i)\n",
    "        print i"
   ]
  },
  {
   "cell_type": "code",
   "execution_count": 40,
   "metadata": {
    "collapsed": true
   },
   "outputs": [],
   "source": [
    "for mz in info_words:\n",
    "    mz = mz.decode('utf8')\n",
    "    if mz in nation_list:\n",
    "        print mz"
   ]
  },
  {
   "cell_type": "code",
   "execution_count": 42,
   "metadata": {
    "collapsed": true
   },
   "outputs": [],
   "source": [
    "#xueli_list = set(xueli_list)\n",
    "for xueli in info_words:\n",
    "    xueli = xueli.decode('utf8')\n",
    "    #xueli_seg = set(wdseg(xueli,'lst'))\n",
    "    \n",
    "    #print xueli.intersection(xueli_list)\n",
    "    #if len(xueli_seg.intersection(xueli_list)) == 0:\n",
    "    if xueli in xueli_list:\n",
    "        #print xueli\n",
    "        print  xueli\n",
    "    #else :\n",
    "       # print xueli\n",
    "    ## if only find '文化', how to do it ? should i delete the '文化'\n"
   ]
  },
  {
   "cell_type": "code",
   "execution_count": 3,
   "metadata": {
    "collapsed": true
   },
   "outputs": [],
   "source": [
    "des_path = '/media/sherlock/new30/law/jun28InfoExtractor/tb_doc_add3.csv'"
   ]
  },
  {
   "cell_type": "code",
   "execution_count": 4,
   "metadata": {
    "collapsed": true
   },
   "outputs": [],
   "source": [
    "add3_law_df = pd.read_csv(des_path)\n",
    "add3_law_df.info()"
   ]
  },
  {
   "cell_type": "code",
   "execution_count": 5,
   "metadata": {
    "scrolled": true
   },
   "outputs": [
    {
     "data": {
      "text/plain": [
       "<bound method Series.isnull of 0                           山东省 \n",
       "1                            NaN\n",
       "2                               \n",
       "3                            NaN\n",
       "4                            NaN\n",
       "5                            NaN\n",
       "6                               \n",
       "7                        北京市丰台区 \n",
       "8                               \n",
       "9                        内蒙古多伦县 \n",
       "10                       天津市武清区 \n",
       "11                              \n",
       "12                              \n",
       "13                              \n",
       "14                           NaN\n",
       "15     云南省昭通市镇 云南省昭通市镇贵州省贵州市云岩区 \n",
       "16                    吉林省蛟河市蛟河市 \n",
       "17                   辽宁省凤城市 吉林省 \n",
       "18                          吉林省 \n",
       "19                              \n",
       "20                              \n",
       "21                           NaN\n",
       "22        内蒙古乌兰察布市兴内蒙古乌兰察布市兴和县  \n",
       "23                              \n",
       "24                           NaN\n",
       "25                           NaN\n",
       "26                   内蒙古土默特左旗   \n",
       "27                           NaN\n",
       "28                              \n",
       "29                           NaN\n",
       "                 ...            \n",
       "970                          NaN\n",
       "971                          NaN\n",
       "972                             \n",
       "973                             \n",
       "974                             \n",
       "975                          江苏 \n",
       "976                             \n",
       "977            蛟河市蛟河市 吉林省蛟河市蛟河市 \n",
       "978                         吉林省 \n",
       "979                      吉林省农安县 \n",
       "980                          NaN\n",
       "981                             \n",
       "982                             \n",
       "983                          NaN\n",
       "984                      闻喜县桐城镇 \n",
       "985                             \n",
       "986                             \n",
       "987                             \n",
       "988                      山东省禹城市 \n",
       "989                  吉林省蛟河市蛟河市  \n",
       "990                             \n",
       "991                          NaN\n",
       "992                             \n",
       "993                          NaN\n",
       "994                             \n",
       "995                             \n",
       "996                      辽宁省盖州市 \n",
       "997                             \n",
       "998                          NaN\n",
       "999                             \n",
       "Name: native_place, dtype: object>"
      ]
     },
     "execution_count": 5,
     "metadata": {},
     "output_type": "execute_result"
    }
   ],
   "source": [
    "add3_law_df.native_place.isnull"
   ]
  },
  {
   "cell_type": "markdown",
   "metadata": {},
   "source": [
    "index 18 性别,index 209,多个时间出现， the law_df "
   ]
  },
  {
   "cell_type": "code",
   "execution_count": 25,
   "metadata": {
    "collapsed": true
   },
   "outputs": [],
   "source": [
    "import numpy as np"
   ]
  },
  {
   "cell_type": "code",
   "execution_count": 238,
   "metadata": {
    "collapsed": true
   },
   "outputs": [],
   "source": [
    "import time\n",
    "for i in np.random.randint(1,1000,20):\n",
    "    print i,'###########'\n",
    "    print add3_law_df.loc[i,'party_info']\n",
    "    print add3_law_df.loc[i,'edu']\n",
    "    time.sleep(5)"
   ]
  },
  {
   "cell_type": "code",
   "execution_count": 7,
   "metadata": {
    "collapsed": true
   },
   "outputs": [],
   "source": [
    "print add3_law_df.loc[15,'native_place']"
   ]
  },
  {
   "cell_type": "code",
   "execution_count": 137,
   "metadata": {},
   "outputs": [
    {
     "data": {
      "text/plain": [
       "6"
      ]
     },
     "execution_count": 137,
     "metadata": {},
     "output_type": "execute_result"
    }
   ],
   "source": [
    "info_words3 = wdseg( (add3_law_df.loc[15,'party_info']).encode('utf8'),'lst')\n",
    "for i ,v in enumerate(info_words3):print i,v\n",
    "dft_index = [idx for idx,dft in enumerate(info_words3) if u'被告'in dft]\n",
    "dft_index[0]\n"
   ]
  },
  {
   "cell_type": "code",
   "execution_count": 140,
   "metadata": {
    "collapsed": true
   },
   "outputs": [],
   "source": [
    "def find_deft_loc(info_seg_list):\n",
    "        dft_index = [idx for idx,dft in enumerate(info_seg_list) if u'被告'in dft]\n",
    "        return dft_index[0]\n",
    "def sgl_word_index(info_seg_list):\n",
    "        #唐山县人民法院会被认为是出生地\n",
    "        #如果party_info中有原告XX，出生于XX，\n",
    "        jg_singal_words= u\"籍,生,生于\"\n",
    "        jg_sgl_word_list = jg_singal_words.split(',')\n",
    "        sgl_word_idx = [ ]\n",
    "        for index, sgl in enumerate(jg_sgl_word_list):\n",
    "            for wd_idx,ww in enumerate(info_seg_list):\n",
    "                if sgl in ww:\n",
    "                    sgl_word_idx.append(wd_idx)\n",
    "        jg_singal_words2 = u'人'\n",
    "        jg_sgl_word_list2 = jg_singal_words2.split()\n",
    "        for wd_idx2,ww in enumerate(info_seg_list):\n",
    "            if jg_singal_words2 in ww:\n",
    "                if info_seg_list[wd_idx2+1] ==','or info_seg_list[wd_idx2+1]=='.'or info_seg_list[wd_idx2+1]=='，' or info_seg_list[wd_idx2+1]=='。':\n",
    "                    sgl_word_idx.append(wd_idx2)\n",
    "\n",
    "        dft_start = find_deft_loc(info_seg_list)\n",
    "        sgl_word_start = np.searchsorted(sgl_word_idx,dft_start,'left')\n",
    "        sgl_word_idx = sgl_word_idx[sgl_word_start:]\n",
    "        return sgl_word_idx"
   ]
  },
  {
   "cell_type": "code",
   "execution_count": 142,
   "metadata": {},
   "outputs": [
    {
     "data": {
      "text/plain": [
       "[22, 26]"
      ]
     },
     "execution_count": 142,
     "metadata": {},
     "output_type": "execute_result"
    }
   ],
   "source": [
    "sgl_words = sgl_word_index(info_words3)\n",
    "sgl_words"
   ]
  },
  {
   "cell_type": "code",
   "execution_count": 144,
   "metadata": {
    "collapsed": true
   },
   "outputs": [],
   "source": [
    "print info_words3[22]"
   ]
  },
  {
   "cell_type": "code",
   "execution_count": 119,
   "metadata": {
    "collapsed": true
   },
   "outputs": [],
   "source": [
    "print info_words3[84]"
   ]
  },
  {
   "cell_type": "code",
   "execution_count": 233,
   "metadata": {
    "collapsed": true
   },
   "outputs": [],
   "source": [
    "print add3_law_df.loc[17,'edu']"
   ]
  },
  {
   "cell_type": "code",
   "execution_count": 236,
   "metadata": {
    "collapsed": true
   },
   "outputs": [],
   "source": [
    "print add3_law_df.loc[17,'gender']"
   ]
  },
  {
   "cell_type": "code",
   "execution_count": 237,
   "metadata": {
    "collapsed": true
   },
   "outputs": [],
   "source": [
    "print add3_law_df.loc[17,'nation']"
   ]
  },
  {
   "cell_type": "code",
   "execution_count": 235,
   "metadata": {
    "collapsed": true
   },
   "outputs": [],
   "source": [
    "print add3_law_df.loc[17,'suspect_num']"
   ]
  },
  {
   "cell_type": "code",
   "execution_count": 240,
   "metadata": {
    "collapsed": true
   },
   "outputs": [],
   "source": [
    "print add3_law_df.loc[209,'party_info']"
   ]
  },
  {
   "cell_type": "code",
   "execution_count": 211,
   "metadata": {},
   "outputs": [
    {
     "data": {
      "text/plain": [
       "3"
      ]
     },
     "execution_count": 211,
     "metadata": {},
     "output_type": "execute_result"
    }
   ],
   "source": [
    "list= []\n",
    "list.append((3,4))\n",
    "list[0][0]"
   ]
  },
  {
   "cell_type": "code",
   "execution_count": 161,
   "metadata": {
    "collapsed": true
   },
   "outputs": [],
   "source": [
    "# row 15 shows that the birth function is a bug"
   ]
  },
  {
   "cell_type": "code",
   "execution_count": 196,
   "metadata": {
    "collapsed": true
   },
   "outputs": [],
   "source": [
    "info_words = wdseg( (add3_law_df.loc[209,'party_info']).encode('utf8'),'lst')"
   ]
  },
  {
   "cell_type": "code",
   "execution_count": 199,
   "metadata": {
    "collapsed": true
   },
   "outputs": [],
   "source": [
    "print info_words[-1]"
   ]
  },
  {
   "cell_type": "code",
   "execution_count": 200,
   "metadata": {},
   "outputs": [
    {
     "data": {
      "text/plain": [
       "9"
      ]
     },
     "execution_count": 200,
     "metadata": {},
     "output_type": "execute_result"
    }
   ],
   "source": [
    "info_words.index('，')"
   ]
  },
  {
   "cell_type": "code",
   "execution_count": 201,
   "metadata": {
    "collapsed": true
   },
   "outputs": [],
   "source": [
    "print info_words[9]"
   ]
  },
  {
   "cell_type": "code",
   "execution_count": 197,
   "metadata": {
    "collapsed": true
   },
   "outputs": [],
   "source": [
    "for ww in info_words: print ww"
   ]
  },
  {
   "cell_type": "code",
   "execution_count": 103,
   "metadata": {},
   "outputs": [
    {
     "data": {
      "text/plain": [
       "[7, 62]"
      ]
     },
     "execution_count": 103,
     "metadata": {},
     "output_type": "execute_result"
    }
   ],
   "source": [
    "#处理多日期，多时间\n",
    "dft_idx = [indx for indx,x in enumerate(info_words) if '被告' in x]\n",
    "dft_idx"
   ]
  },
  {
   "cell_type": "code",
   "execution_count": 105,
   "metadata": {},
   "outputs": [
    {
     "data": {
      "text/plain": [
       "[12, 29, 36, 67, 84, 91]"
      ]
     },
     "execution_count": 105,
     "metadata": {},
     "output_type": "execute_result"
    }
   ],
   "source": [
    "yr_idx = [indx for indx,x in enumerate(info_words) if '年' in x]\n",
    "yr_idx"
   ]
  },
  {
   "cell_type": "code",
   "execution_count": 106,
   "metadata": {},
   "outputs": [
    {
     "data": {
      "text/plain": [
       "[15, 70]"
      ]
     },
     "execution_count": 106,
     "metadata": {},
     "output_type": "execute_result"
    }
   ],
   "source": [
    "born_idx = [indx for indx,x in enumerate(info_words) if '生' in x]\n",
    "born_idx"
   ]
  },
  {
   "cell_type": "code",
   "execution_count": 123,
   "metadata": {},
   "outputs": [
    {
     "data": {
      "text/plain": [
       "[12, 67]"
      ]
     },
     "execution_count": 123,
     "metadata": {},
     "output_type": "execute_result"
    }
   ],
   "source": [
    "new_yy_idx = []\n",
    "for yy in yr_idx:\n",
    "    for dd in dft_idx:\n",
    "        if  0<yy - dd <10:\n",
    "            print yy\n",
    "            new_yy_idx.append(yy)\n",
    "    for bb in born_idx:\n",
    "        if 0< bb -yy<5:\n",
    "            print yy\n",
    "            new_yy_idx.append(yy)\n",
    "new_yr_idx = list(set(new_yy_idx))\n",
    "new_yr_idx.sort()\n",
    "new_yr_idx"
   ]
  },
  {
   "cell_type": "code",
   "execution_count": 183,
   "metadata": {
    "collapsed": true
   },
   "outputs": [],
   "source": [
    "def get_birth(info_seg_list):\n",
    "\n",
    "    #if '被告' in i:\n",
    "\n",
    "        # dft_idx = int(info_seg_list.index(i))\n",
    "    dft_idx = [indx for indx,x in enumerate(info_seg_list) if '被告' in x]\n",
    "        #print '***' + i +str(info_seg_list.index(i))\n",
    "    #if '年' in i:\n",
    "        # yr_idx = int(info_seg_list.index(i))\n",
    "    yr_idx = [indx for indx,x in enumerate(info_seg_list) if '年' in x]\n",
    "    #if '生' in i:\n",
    "        # born_str = int(info_seg_list.index(i))\n",
    "    born_idx = [indx for indx,x in enumerate(info_seg_list) if '生' in x]\n",
    "\n",
    "    try:\n",
    "        new_yy_idx = []\n",
    "        for yy in yr_idx:\n",
    "            for dd in dft_idx:\n",
    "                if  0<yy - dd <10:\n",
    "                    print 'yy1 is ' ,yy\n",
    "                    new_yy_idx.append(yy)\n",
    "            for bb in born_idx:\n",
    "                if 0< bb -yy<5:\n",
    "                    print 'yy2 is ', yy\n",
    "                    new_yy_idx.append(yy)\n",
    "        print new_yy_idx\n",
    "        new_yr_idx = list(set(new_yy_idx))\n",
    "        print new_yr_idx\n",
    "        new_yr_idx.sort()\n",
    "        print new_yr_idx\n",
    "        birth = ''\n",
    "        for l in new_yr_idx:\n",
    "\n",
    "            # if yr_idx[l] - dft_idx[l] <10 or born_idx[l] - yr_idx[l] <5:\n",
    "                #  birth = ''\n",
    "            for bt_i in range (l,l + 3):\n",
    "                bt = info_seg_list[bt_i]\n",
    "                birth = birth+bt\n",
    "            birth = birth +' '\n",
    "\n",
    "        return birth\n",
    "\n",
    "            # if yr_idx - dft_idx <10 or born_str - yr_idx <5:\n",
    "            #     birth = ''\n",
    "            #     for bt_i in  range(yr_idx,yr_idx+3):\n",
    "            #         bt = info_seg_list[bt_i]\n",
    "            #         birth = birth + bt\n",
    "            #\n",
    "            #     #print birth\n",
    "            #     return birth\n",
    "    except:\n",
    "        pass"
   ]
  },
  {
   "cell_type": "code",
   "execution_count": 184,
   "metadata": {
    "collapsed": true
   },
   "outputs": [],
   "source": [
    "birth209 = get_birth(info_words)\n",
    "print birth209"
   ]
  },
  {
   "cell_type": "code",
   "execution_count": 131,
   "metadata": {
    "collapsed": true
   },
   "outputs": [],
   "source": [
    "#处理多性别\n",
    "print add3_law_df.loc[18,'party_info']\n",
    "gd_words = wdseg( (add3_law_df.loc[18,'party_info']).encode('utf8'),'lst')\n",
    "for gg in gd_words: print gg"
   ]
  },
  {
   "cell_type": "code",
   "execution_count": 144,
   "metadata": {
    "collapsed": true
   },
   "outputs": [],
   "source": [
    "print add3_law_df.loc[18,'party_info']"
   ]
  },
  {
   "cell_type": "code",
   "execution_count": 132,
   "metadata": {
    "collapsed": true
   },
   "outputs": [],
   "source": [
    "gender_idx = [idx for idx, g in enumerate(gd_words) if g in agenda_list]"
   ]
  },
  {
   "cell_type": "code",
   "execution_count": 134,
   "metadata": {},
   "outputs": [
    {
     "data": {
      "text/plain": [
       "[99]"
      ]
     },
     "execution_count": 134,
     "metadata": {},
     "output_type": "execute_result"
    }
   ],
   "source": [
    "dft_idx2 = [indx for indx,x in enumerate(gd_words) if '被告' in x]\n",
    "dft_idx2"
   ]
  },
  {
   "cell_type": "code",
   "execution_count": 133,
   "metadata": {
    "scrolled": true
   },
   "outputs": [
    {
     "data": {
      "text/plain": [
       "[14, 39, 61, 83, 103]"
      ]
     },
     "execution_count": 133,
     "metadata": {},
     "output_type": "execute_result"
    }
   ],
   "source": [
    "gender_idx"
   ]
  },
  {
   "cell_type": "code",
   "execution_count": 136,
   "metadata": {
    "collapsed": true
   },
   "outputs": [],
   "source": [
    "for gg in gender_idx:\n",
    "    for dft in dft_idx2:\n",
    "        if 0<gg-dft<8:\n",
    "            print gd_words[gg]"
   ]
  },
  {
   "cell_type": "code",
   "execution_count": 138,
   "metadata": {},
   "outputs": [
    {
     "data": {
      "text/plain": [
       "[16, 41, 63, 85, 105]"
      ]
     },
     "execution_count": 138,
     "metadata": {},
     "output_type": "execute_result"
    }
   ],
   "source": [
    "nation_idx = [idx for idx, n in enumerate(gd_words) if n in nation_list]\n",
    "nation_idx # set the nation idx range to be after the 13"
   ]
  },
  {
   "cell_type": "code",
   "execution_count": 143,
   "metadata": {},
   "outputs": [
    {
     "data": {
      "text/plain": [
       "[21, 46, 68, 90, 110]"
      ]
     },
     "execution_count": 143,
     "metadata": {},
     "output_type": "execute_result"
    }
   ],
   "source": [
    "edu_idx = [idx for idx,ee in enumerate(gd_words) if ee in xueli_list]\n",
    "edu_idx # set the education index  to be after 20"
   ]
  },
  {
   "cell_type": "code",
   "execution_count": 92,
   "metadata": {
    "scrolled": true
   },
   "outputs": [
    {
     "data": {
      "text/plain": [
       "'1983\\xe5\\xb9\\xb4'"
      ]
     },
     "execution_count": 92,
     "metadata": {},
     "output_type": "execute_result"
    }
   ],
   "source": [
    "info_words[12]"
   ]
  },
  {
   "cell_type": "code",
   "execution_count": 94,
   "metadata": {
    "collapsed": true
   },
   "outputs": [],
   "source": [
    "birth_str = info_words[12] + info_words[13] + info_words[14]\n",
    "print birth_str"
   ]
  },
  {
   "cell_type": "code",
   "execution_count": 98,
   "metadata": {
    "collapsed": true
   },
   "outputs": [],
   "source": [
    "birth_str =''\n",
    "for i in range(12,12+3):\n",
    "    birth_str = birth_str + info_words[i]\n",
    "    print birth_str\n",
    "print birth_str"
   ]
  },
  {
   "cell_type": "markdown",
   "metadata": {},
   "source": [
    "IF there is more than one defendent, then origin gender extracting code just return the first one. But if there is more than one,  should return all the elements's index found in the word_seg_list"
   ]
  },
  {
   "cell_type": "code",
   "execution_count": 55,
   "metadata": {
    "collapsed": true
   },
   "outputs": [],
   "source": [
    "indices = [i for i,x in enumerate(info_words) if x.decode('utf8') in agenda_list]"
   ]
  },
  {
   "cell_type": "code",
   "execution_count": 241,
   "metadata": {
    "collapsed": true
   },
   "outputs": [],
   "source": [
    "#提取籍贯，常见的句式是，籍贯XX市，出生于XX市，生于XX市，XX人，XX市出生\n",
    "#方案1找出籍贯， 出生，人等关键词，然后通过在这前面是不是地点来匹配。\n",
    "#方案2 找出NER地点，然后判断周围是否出现了籍贯，人等关键词。"
   ]
  },
  {
   "cell_type": "code",
   "execution_count": 26,
   "metadata": {
    "collapsed": true
   },
   "outputs": [],
   "source": [
    "jg_seg_words = wdseg(add3_law_df.loc[17,'party_info'].encode('utf8'),'lst')"
   ]
  },
  {
   "cell_type": "code",
   "execution_count": 40,
   "metadata": {
    "collapsed": true
   },
   "outputs": [],
   "source": [
    "for jg in jg_seg_words:print jg"
   ]
  },
  {
   "cell_type": "code",
   "execution_count": 41,
   "metadata": {
    "collapsed": true
   },
   "outputs": [],
   "source": [
    "print add3_law_df.loc[17,'party_info']"
   ]
  },
  {
   "cell_type": "code",
   "execution_count": 35,
   "metadata": {
    "collapsed": true
   },
   "outputs": [],
   "source": [
    "jg_singal_words= u\"籍,生,生于,人\"\n",
    "jg_sgl_word_list = jg_singal_words.split(',')\n",
    "print jg_sgl_word_list"
   ]
  },
  {
   "cell_type": "code",
   "execution_count": 57,
   "metadata": {
    "collapsed": true
   },
   "outputs": [],
   "source": [
    "postag = postagger.postag(jg_seg_words)"
   ]
  },
  {
   "cell_type": "code",
   "execution_count": 58,
   "metadata": {
    "collapsed": true
   },
   "outputs": [],
   "source": [
    "loc_pos_idx = [idx for idx, pos in enumerate(postag) if 'ns' in pos]\n",
    "for ll in loc_pos_idx:print jg_seg_words[ll]"
   ]
  },
  {
   "cell_type": "code",
   "execution_count": 59,
   "metadata": {
    "collapsed": true
   },
   "outputs": [],
   "source": [
    "netags = recognizer.recognize(jg_seg_words, postag)\n",
    "netags_list = '\\t'.join(netags).split('\\t')\n",
    "loc_idx = [idx for idx, ner in enumerate(netags_list) if 'Ns' in ner]\n",
    "for i in loc_idx:\n",
    "    print jg_seg_words[i]"
   ]
  },
  {
   "cell_type": "code",
   "execution_count": 32,
   "metadata": {},
   "outputs": [
    {
     "data": {
      "text/plain": [
       "[6, 10, 12, 14, 18, 21, 23, 28, 38, 48, 52, 54, 56, 59, 62, 64, 68, 73, 83, 93]"
      ]
     },
     "execution_count": 32,
     "metadata": {},
     "output_type": "execute_result"
    }
   ],
   "source": [
    "#extract the idx of comma or peroid and fit the 'ns' pos into the range , the judge if the signal keyword is in the range\n",
    "com_prd_idx = [idx for idx,v in enumerate(jg_seg_words) if v=='，'or v =='。' or v==',' or v=='.']\n",
    "com_prd_idx"
   ]
  },
  {
   "cell_type": "code",
   "execution_count": 68,
   "metadata": {},
   "outputs": [
    {
     "data": {
      "text/plain": [
       "[4, 7, 17, 49, 58]"
      ]
     },
     "execution_count": 68,
     "metadata": {},
     "output_type": "execute_result"
    }
   ],
   "source": [
    "sgl_word_idx = [ ]\n",
    "for index, sgl in enumerate(jg_sgl_word_list):\n",
    "    for wd_idx,ww in enumerate( jg_seg_words):\n",
    "        if sgl in ww:\n",
    "            sgl_word_idx.append(wd_idx)\n",
    "sgl_word_idx"
   ]
  },
  {
   "cell_type": "code",
   "execution_count": 43,
   "metadata": {
    "collapsed": true
   },
   "outputs": [],
   "source": [
    "for dd in sgl_word_idx:\n",
    "    print jg_seg_words[dd]"
   ]
  },
  {
   "cell_type": "code",
   "execution_count": 82,
   "metadata": {},
   "outputs": [
    {
     "data": {
      "text/plain": [
       "[(6, 12), (14, 21), (48, 54), (56, 62)]"
      ]
     },
     "execution_count": 82,
     "metadata": {},
     "output_type": "execute_result"
    }
   ],
   "source": [
    "import numpy as np \n",
    "sgl_range=[]\n",
    "for sg in sgl_word_idx:\n",
    "    start = np.searchsorted(com_prd_idx,sg,'left')\n",
    "    print start\n",
    "    if start >0:\n",
    "        start_range= com_prd_idx[start-1]\n",
    "        end_range = com_prd_idx[start+1]\n",
    "    #if start == 0:\n",
    "       # start_range = 0\n",
    "        #end_range = com_prd_idx[0]\n",
    "        sgl_range.append((start_range,end_range))\n",
    "sgl_range\n",
    "#print jg_seg_words[sgl_range[0][0]:sgl_range[0][1]]"
   ]
  },
  {
   "cell_type": "code",
   "execution_count": 79,
   "metadata": {
    "collapsed": true
   },
   "outputs": [
    {
     "data": {
      "text/plain": [
       "['v',\n",
       " 'n',\n",
       " 'ns',\n",
       " 'ns',\n",
       " 'n',\n",
       " 'n',\n",
       " 'wp',\n",
       " 'n',\n",
       " 'nh',\n",
       " 'r',\n",
       " 'wp',\n",
       " 'b',\n",
       " 'wp',\n",
       " 'nz',\n",
       " 'wp',\n",
       " 'ns',\n",
       " 'ns',\n",
       " 'n',\n",
       " 'wp',\n",
       " 'n',\n",
       " 'n',\n",
       " 'wp',\n",
       " 'n',\n",
       " 'wp',\n",
       " 'p',\n",
       " 'v',\n",
       " 'n',\n",
       " 'v',\n",
       " 'wp',\n",
       " 'p',\n",
       " 'nt',\n",
       " 'nt',\n",
       " 'nt',\n",
       " 'p',\n",
       " 'ns',\n",
       " 'n',\n",
       " 'v',\n",
       " 'v',\n",
       " 'wp',\n",
       " 'p',\n",
       " 'r',\n",
       " 'v',\n",
       " 'p',\n",
       " 'nt',\n",
       " 'nt',\n",
       " 'nt',\n",
       " 'v',\n",
       " 'v',\n",
       " 'wp',\n",
       " 'n',\n",
       " 'nh',\n",
       " 'r',\n",
       " 'wp',\n",
       " 'b',\n",
       " 'wp',\n",
       " 'nz',\n",
       " 'wp',\n",
       " 'ns',\n",
       " 'n',\n",
       " 'wp',\n",
       " 'n',\n",
       " 'n',\n",
       " 'wp',\n",
       " 'n',\n",
       " 'wp',\n",
       " 'v',\n",
       " 'ns',\n",
       " 'ns',\n",
       " 'wp',\n",
       " 'p',\n",
       " 'v',\n",
       " 'n',\n",
       " 'v',\n",
       " 'wp',\n",
       " 'p',\n",
       " 'nt',\n",
       " 'nt',\n",
       " 'nt',\n",
       " 'p',\n",
       " 'ns',\n",
       " 'n',\n",
       " 'v',\n",
       " 'v',\n",
       " 'wp',\n",
       " 'p',\n",
       " 'r',\n",
       " 'v',\n",
       " 'p',\n",
       " 'nt',\n",
       " 'nt',\n",
       " 'nt',\n",
       " 'v',\n",
       " 'v',\n",
       " 'wp']"
      ]
     },
     "execution_count": 79,
     "metadata": {},
     "output_type": "execute_result"
    }
   ],
   "source": [
    "postag_list = '\\t'.join(postag).split('\\t')\n",
    "postag_list"
   ]
  },
  {
   "cell_type": "code",
   "execution_count": 103,
   "metadata": {
    "collapsed": true
   },
   "outputs": [],
   "source": [
    "jg_str = ''\n",
    "for i in sgl_range:\n",
    "    jg_str2 = ''\n",
    "    if 'ns' in postag_list[i[0]:i[1]]:\n",
    "        for ix,pp in enumerate(postag_list[i[0]:i[1]]):\n",
    "            if pp == 'ns':\n",
    "                jg_ns =  jg_seg_words[i[0]:i[1]][ix]\n",
    "                print jg_ns\n",
    "                jg_str2 = jg_str2+jg_ns\n",
    "                print jg_str2\n",
    "    jg_str = jg_str + jg_str2 +' '\n",
    "        #for i  in  jg_seg_words[i[0]:i[1]]:print i"
   ]
  },
  {
   "cell_type": "code",
   "execution_count": 104,
   "metadata": {
    "collapsed": true
   },
   "outputs": [],
   "source": [
    "print jg_str"
   ]
  },
  {
   "cell_type": "code",
   "execution_count": 84,
   "metadata": {
    "collapsed": true
   },
   "outputs": [],
   "source": [
    "for i in sgl_range:\n",
    "    for pos_i ,pp in enumerate(postag_list[i[0]:i[1]]):\n",
    "        if 'ns' in pp:\n",
    "            print jg_seg_words[pos_i]\n",
    "    \n",
    "  "
   ]
  },
  {
   "cell_type": "code",
   "execution_count": 60,
   "metadata": {
    "scrolled": true
   },
   "outputs": [
    {
     "data": {
      "text/plain": [
       "[2, 3, 15, 16, 34, 57, 66, 67, 79]"
      ]
     },
     "execution_count": 60,
     "metadata": {},
     "output_type": "execute_result"
    }
   ],
   "source": [
    "loc_pos_idx"
   ]
  },
  {
   "cell_type": "code",
   "execution_count": 75,
   "metadata": {
    "collapsed": true
   },
   "outputs": [],
   "source": [
    "for ww in  jg_seg_words[56:59] : print ww"
   ]
  },
  {
   "cell_type": "code",
   "execution_count": 76,
   "metadata": {
    "collapsed": true
   },
   "outputs": [],
   "source": [
    "for ww in jg_seg_words:print ww"
   ]
  },
  {
   "cell_type": "code",
   "execution_count": null,
   "metadata": {
    "collapsed": true
   },
   "outputs": [],
   "source": []
  },
  {
   "cell_type": "code",
   "execution_count": 65,
   "metadata": {
    "collapsed": true
   },
   "outputs": [],
   "source": [
    "for ww in  jg_seg_words[0:5]:print ww"
   ]
  },
  {
   "cell_type": "code",
   "execution_count": 259,
   "metadata": {},
   "outputs": [
    {
     "data": {
      "text/plain": [
       "4"
      ]
     },
     "execution_count": 259,
     "metadata": {},
     "output_type": "execute_result"
    }
   ],
   "source": [
    "# this is the code to find the indices where ns pos position to insert into the list where selected all the comma or peroid indices\n",
    "import numpy as np\n",
    "a = [1, 3, 5, 6, 9, 10, 14, 15, 56] \n",
    "start = np.searchsorted(a, 7, 'left')\n",
    "#end = np.searchsorted(a, 10, 'right')\n",
    "#rng = np.arange(start, end)\n",
    "#rng\n",
    "start"
   ]
  },
  {
   "cell_type": "code",
   "execution_count": 260,
   "metadata": {
    "collapsed": true
   },
   "outputs": [],
   "source": [
    "#how to generate the comma or peroid range using map or filter inside function or the list generatation"
   ]
  },
  {
   "cell_type": "code",
   "execution_count": null,
   "metadata": {
    "collapsed": true
   },
   "outputs": [],
   "source": []
  },
  {
   "cell_type": "code",
   "execution_count": null,
   "metadata": {
    "collapsed": true
   },
   "outputs": [],
   "source": []
  },
  {
   "cell_type": "code",
   "execution_count": null,
   "metadata": {
    "collapsed": true
   },
   "outputs": [],
   "source": []
  },
  {
   "cell_type": "code",
   "execution_count": 42,
   "metadata": {},
   "outputs": [
    {
     "data": {
      "text/plain": [
       "6"
      ]
     },
     "execution_count": 42,
     "metadata": {},
     "output_type": "execute_result"
    }
   ],
   "source": [
    "info_words.index(u'。')"
   ]
  },
  {
   "cell_type": "code",
   "execution_count": 175,
   "metadata": {},
   "outputs": [
    {
     "data": {
      "text/plain": [
       "19"
      ]
     },
     "execution_count": 175,
     "metadata": {},
     "output_type": "execute_result"
    }
   ],
   "source": [
    "info_words.index('1985年')"
   ]
  },
  {
   "cell_type": "code",
   "execution_count": 169,
   "metadata": {
    "scrolled": true
   },
   "outputs": [
    {
     "data": {
      "text/plain": [
       "22"
      ]
     },
     "execution_count": 169,
     "metadata": {},
     "output_type": "execute_result"
    }
   ],
   "source": [
    "info_words.index('生')"
   ]
  },
  {
   "cell_type": "code",
   "execution_count": 86,
   "metadata": {
    "collapsed": true
   },
   "outputs": [],
   "source": [
    "for i in info_words:\n",
    "    if '被告' in i:\n",
    "        print '***' + i +str(info_words.index(i))\n",
    "    if '年' in i:\n",
    "        print ' ' + i +str(info_words.index(i))\n",
    "    if '出生' in i :\n",
    "        print '##' +str( info_words.index(i) )       "
   ]
  },
  {
   "cell_type": "code",
   "execution_count": 53,
   "metadata": {},
   "outputs": [
    {
     "data": {
      "text/plain": [
       "27"
      ]
     },
     "execution_count": 53,
     "metadata": {},
     "output_type": "execute_result"
    }
   ],
   "source": [
    "info_words.index('年')"
   ]
  },
  {
   "cell_type": "code",
   "execution_count": 31,
   "metadata": {
    "collapsed": true
   },
   "outputs": [],
   "source": [
    "for age in info_list:\n",
    "    if '年' in age:\n",
    "        print age\n",
    "    elif '出生' in age:\n",
    "        print age\n",
    "        #add index judger to choose if  年 follows the 被告 within a certain distance"
   ]
  },
  {
   "cell_type": "code",
   "execution_count": null,
   "metadata": {
    "collapsed": true
   },
   "outputs": [],
   "source": [
    "set.intersection"
   ]
  },
  {
   "cell_type": "code",
   "execution_count": 46,
   "metadata": {},
   "outputs": [
    {
     "data": {
      "text/plain": [
       "{'\\xe7\\x82\\xb9'}"
      ]
     },
     "execution_count": 46,
     "metadata": {},
     "output_type": "execute_result"
    }
   ],
   "source": [
    "xueli_test_list = set(wdseg('点','lst'))\n",
    "xueli_test_list"
   ]
  },
  {
   "cell_type": "code",
   "execution_count": 48,
   "metadata": {},
   "outputs": [
    {
     "data": {
      "text/plain": [
       "0"
      ]
     },
     "execution_count": 48,
     "metadata": {},
     "output_type": "execute_result"
    }
   ],
   "source": [
    "len(xueli_list.intersection(xueli_test_list)) "
   ]
  },
  {
   "cell_type": "code",
   "execution_count": 38,
   "metadata": {},
   "outputs": [
    {
     "ename": "KeyboardInterrupt",
     "evalue": "",
     "output_type": "error",
     "traceback": [
      "\u001b[0;31m---------------------------------------------------------------------------\u001b[0m",
      "\u001b[0;31mKeyboardInterrupt\u001b[0m                         Traceback (most recent call last)",
      "\u001b[0;32m<ipython-input-38-14e9b737acbf>\u001b[0m in \u001b[0;36m<module>\u001b[0;34m()\u001b[0m\n\u001b[1;32m      4\u001b[0m         \u001b[0;32mprint\u001b[0m \u001b[0mj\u001b[0m\u001b[0;34m\u001b[0m\u001b[0m\n\u001b[1;32m      5\u001b[0m     \u001b[0;32mprint\u001b[0m \u001b[0;34m'############'\u001b[0m\u001b[0;34m\u001b[0m\u001b[0m\n\u001b[0;32m----> 6\u001b[0;31m     \u001b[0mtime\u001b[0m\u001b[0;34m.\u001b[0m\u001b[0msleep\u001b[0m\u001b[0;34m(\u001b[0m\u001b[0;36m4\u001b[0m\u001b[0;34m)\u001b[0m\u001b[0;34m\u001b[0m\u001b[0m\n\u001b[0m\u001b[1;32m      7\u001b[0m \u001b[0;34m\u001b[0m\u001b[0m\n",
      "\u001b[0;31mKeyboardInterrupt\u001b[0m: "
     ]
    }
   ],
   "source": [
    "for i in range(len(law_df)):\n",
    "    test_str = law_df.loc[i,'party_info'].split('。')\n",
    "    for j in test_str:\n",
    "        print j\n",
    "    print '############'\n",
    "    time.sleep(4)\n",
    "    "
   ]
  },
  {
   "cell_type": "code",
   "execution_count": 139,
   "metadata": {
    "collapsed": true
   },
   "outputs": [],
   "source": [
    "test_str = law_df.loc[36,'party_info'].split('。')"
   ]
  },
  {
   "cell_type": "code",
   "execution_count": 140,
   "metadata": {
    "collapsed": true
   },
   "outputs": [],
   "source": [
    "for i in test_str: print i "
   ]
  },
  {
   "cell_type": "markdown",
   "metadata": {
    "collapsed": true
   },
   "source": [
    "#### Extracting 团伙,共同犯罪"
   ]
  },
  {
   "cell_type": "code",
   "execution_count": 141,
   "metadata": {
    "collapsed": true
   },
   "outputs": [],
   "source": [
    "accused_str = '被告人刘××，农民。因本案于2015年9月16日被天津市公安局津南分局刑事拘留，同年10月21日被逮捕。现羁押于天津市津南区看守所。被告人李××，农民。因本案于2015年9月16日被天津市公安局津南分局刑事拘留，同年10月21日被逮捕。现羁押于天津市津南区看守所。'"
   ]
  },
  {
   "cell_type": "code",
   "execution_count": 139,
   "metadata": {},
   "outputs": [
    {
     "data": {
      "text/plain": [
       "'\\xe5\\x88\\x98\\xc3\\x97\\xc3\\x97\\xef\\xbc\\x8c\\xe5\\x86\\x9c\\xe6\\xb0\\x91\\xe3\\x80\\x82\\xe5\\x9b\\xa0\\xe6\\x9c\\xac\\xe6\\xa1\\x88\\xe4\\xba\\x8e2015\\xe5\\xb9\\xb49\\xe6\\x9c\\x8816\\xe6\\x97\\xa5\\xe8\\xa2\\xab\\xe5\\xa4\\xa9\\xe6\\xb4\\xa5\\xe5\\xb8\\x82\\xe5\\x85\\xac\\xe5\\xae\\x89\\xe5\\xb1\\x80\\xe6\\xb4\\xa5\\xe5\\x8d\\x97\\xe5\\x88\\x86\\xe5\\xb1\\x80\\xe5\\x88\\x91\\xe4\\xba\\x8b\\xe6\\x8b\\x98\\xe7\\x95\\x99\\xef\\xbc\\x8c\\xe5\\x90\\x8c\\xe5\\xb9\\xb410\\xe6\\x9c\\x8821\\xe6\\x97\\xa5\\xe8\\xa2\\xab\\xe9\\x80\\xae\\xe6\\x8d\\x95\\xe3\\x80\\x82\\xe7\\x8e\\xb0\\xe7\\xbe\\x81\\xe6\\x8a\\xbc\\xe4\\xba\\x8e\\xe5\\xa4\\xa9\\xe6\\xb4\\xa5\\xe5\\xb8\\x82\\xe6\\xb4\\xa5\\xe5\\x8d\\x97\\xe5\\x8c\\xba\\xe7\\x9c\\x8b\\xe5\\xae\\x88\\xe6\\x89\\x80\\xe3\\x80\\x82\\xe6\\x9d\\x8e\\xc3\\x97\\xc3\\x97\\xef\\xbc\\x8c\\xe5\\x86\\x9c\\xe6\\xb0\\x91\\xe3\\x80\\x82\\xe5\\x9b\\xa0\\xe6\\x9c\\xac\\xe6\\xa1\\x88\\xe4\\xba\\x8e2015\\xe5\\xb9\\xb49\\xe6\\x9c\\x8816\\xe6\\x97\\xa5\\xe8\\xa2\\xab\\xe5\\xa4\\xa9\\xe6\\xb4\\xa5\\xe5\\xb8\\x82\\xe5\\x85\\xac\\xe5\\xae\\x89\\xe5\\xb1\\x80\\xe6\\xb4\\xa5\\xe5\\x8d\\x97\\xe5\\x88\\x86\\xe5\\xb1\\x80\\xe5\\x88\\x91\\xe4\\xba\\x8b\\xe6\\x8b\\x98\\xe7\\x95\\x99\\xef\\xbc\\x8c\\xe5\\x90\\x8c\\xe5\\xb9\\xb410\\xe6\\x9c\\x8821\\xe6\\x97\\xa5\\xe8\\xa2\\xab\\xe9\\x80\\xae\\xe6\\x8d\\x95\\xe3\\x80\\x82\\xe7\\x8e\\xb0\\xe7\\xbe\\x81\\xe6\\x8a\\xbc\\xe4\\xba\\x8e\\xe5\\xa4\\xa9\\xe6\\xb4\\xa5\\xe5\\xb8\\x82\\xe6\\xb4\\xa5\\xe5\\x8d\\x97\\xe5\\x8c\\xba\\xe7\\x9c\\x8b\\xe5\\xae\\x88\\xe6\\x89\\x80\\xe3\\x80\\x82'"
      ]
     },
     "execution_count": 139,
     "metadata": {},
     "output_type": "execute_result"
    }
   ],
   "source": [
    "accused_str"
   ]
  },
  {
   "cell_type": "code",
   "execution_count": 86,
   "metadata": {
    "collapsed": true
   },
   "outputs": [],
   "source": [
    "def ner_detect(ner_str):\n",
    "    seg_word = wdseg(ner_str,'lst')\n",
    "    words = '\\t'.join(seg_word)\n",
    "    print words\n",
    "    postags = postagger.postag(seg_word)\n",
    "    print type(postags)\n",
    "    postag_list= '\\t'.join(postags).split('\\t')\n",
    "    print postag_list\n",
    "    netags = recognizer.recognize(seg_word, postag_list)  # 命名实体识别\n",
    "    print '\\t'.join(netags)\n",
    "    return netags"
   ]
  },
  {
   "cell_type": "code",
   "execution_count": 87,
   "metadata": {
    "collapsed": true
   },
   "outputs": [],
   "source": [
    "accused_ner = ner_detect(accused_str)"
   ]
  },
  {
   "cell_type": "code",
   "execution_count": 88,
   "metadata": {
    "collapsed": true
   },
   "outputs": [],
   "source": [
    "postag_list = ['n', 'nh', 'wp', 'n', 'wp', 'p', 'r', 'p', 'nt', 'nt', 'nt', 'p', 'ns', 'n', 'ns', 'n', 'b', 'v', 'wp', 'd', 'nt', 'nt', 'p', 'v', 'wp', 'n', 'v', 'ns', 'ns', 'n', 'wp', 'n', 'nh', 'wp', 'n', 'wp', 'p', 'r', 'p', 'nt', 'nt', 'nt', 'p', 'ns', 'n', 'ns', 'n', 'b', 'v', 'wp', 'd', 'nt', 'nt', 'p', 'v', 'wp', 'n', 'v', 'ns', 'ns', 'n', 'wp']"
   ]
  },
  {
   "cell_type": "code",
   "execution_count": 89,
   "metadata": {
    "collapsed": true
   },
   "outputs": [],
   "source": [
    "postag_str = \"'n', 'nh', 'wp', 'n', 'wp', 'p'\""
   ]
  },
  {
   "cell_type": "code",
   "execution_count": 122,
   "metadata": {
    "collapsed": true
   },
   "outputs": [],
   "source": [
    "from collections import Counter"
   ]
  },
  {
   "cell_type": "code",
   "execution_count": 97,
   "metadata": {
    "collapsed": true
   },
   "outputs": [],
   "source": [
    "tag_count =  Counter(postag_list)"
   ]
  },
  {
   "cell_type": "code",
   "execution_count": 98,
   "metadata": {},
   "outputs": [
    {
     "data": {
      "text/plain": [
       "2"
      ]
     },
     "execution_count": 98,
     "metadata": {},
     "output_type": "execute_result"
    }
   ],
   "source": [
    "tag_count['nh']"
   ]
  },
  {
   "cell_type": "code",
   "execution_count": 140,
   "metadata": {
    "collapsed": true
   },
   "outputs": [],
   "source": [
    "accused_segwords = wdseg(accused_str,'lst')\n",
    "for ww in accused_segwords:print ww\n",
    "print accused_segwords\n",
    "seg_word_count = Counter(accused_segwords)\n",
    "print seg_word_count\n",
    "test_num = seg_word_count['被告人'] \n",
    "print test_num\n",
    "if seg_word_count['被告人'] >1:\n",
    "    print '1'\n",
    "    print seg_word_count['被告人']\n",
    "    print '#########'\n"
   ]
  },
  {
   "cell_type": "code",
   "execution_count": 105,
   "metadata": {},
   "outputs": [
    {
     "data": {
      "text/plain": [
       "-1"
      ]
     },
     "execution_count": 105,
     "metadata": {},
     "output_type": "execute_result"
    }
   ],
   "source": [
    "accused_str.find('辩护人')"
   ]
  },
  {
   "cell_type": "code",
   "execution_count": null,
   "metadata": {
    "collapsed": true
   },
   "outputs": [],
   "source": []
  },
  {
   "cell_type": "code",
   "execution_count": 106,
   "metadata": {
    "collapsed": true
   },
   "outputs": [],
   "source": [
    "ner_str = '辩护人侯建军、王众星，北京市重华律师事务所律师'.decode('utf8')"
   ]
  },
  {
   "cell_type": "code",
   "execution_count": 107,
   "metadata": {},
   "outputs": [
    {
     "data": {
      "text/plain": [
       "0"
      ]
     },
     "execution_count": 107,
     "metadata": {},
     "output_type": "execute_result"
    }
   ],
   "source": [
    "ner_str.find('辩护人')"
   ]
  },
  {
   "cell_type": "code",
   "execution_count": 127,
   "metadata": {
    "collapsed": true
   },
   "outputs": [],
   "source": [
    "d_idx = ner_str.find('辩护人')\n",
    "if d_idx >=0:\n",
    "    ner_str = ner_str[d_idx:].encode('utf8')\n",
    "    ner_tag = ner_detect(ner_str)\n",
    "    ner_tag_list = '\\t'.join(ner_tag).split('\\t')\n",
    "    "
   ]
  },
  {
   "cell_type": "code",
   "execution_count": 130,
   "metadata": {
    "collapsed": true
   },
   "outputs": [],
   "source": [
    "ner_start = ner_tag_list.index('B-Ni')"
   ]
  },
  {
   "cell_type": "code",
   "execution_count": 131,
   "metadata": {
    "collapsed": true
   },
   "outputs": [],
   "source": [
    "ner_end = ner_tag_list.index('E-Ni')"
   ]
  },
  {
   "cell_type": "code",
   "execution_count": 132,
   "metadata": {
    "collapsed": true
   },
   "outputs": [],
   "source": [
    "words = wdseg(ner_str,'lst')"
   ]
  },
  {
   "cell_type": "code",
   "execution_count": 135,
   "metadata": {
    "collapsed": true
   },
   "outputs": [],
   "source": [
    "for i in words[ner_start:ner_end+1]:print i"
   ]
  },
  {
   "cell_type": "code",
   "execution_count": 38,
   "metadata": {
    "collapsed": true
   },
   "outputs": [],
   "source": [
    "ner_str = deleCnbiaodian(ner_str).encode('utf8')"
   ]
  },
  {
   "cell_type": "code",
   "execution_count": 36,
   "metadata": {},
   "outputs": [
    {
     "data": {
      "text/plain": [
       "'\\xe8\\xbe\\xa9\\xe6\\x8a\\xa4\\xe4\\xba\\xba\\xe4\\xbe\\xaf\\xe5\\xbb\\xba\\xe5\\x86\\x9b\\xe7\\x8e\\x8b\\xe4\\xbc\\x97\\xe6\\x98\\x9f\\xe5\\x8c\\x97\\xe4\\xba\\xac\\xe5\\xb8\\x82\\xe9\\x87\\x8d\\xe5\\x8d\\x8e\\xe5\\xbe\\x8b\\xe5\\xb8\\x88\\xe4\\xba\\x8b\\xe5\\x8a\\xa1\\xe6\\x89\\x80\\xe5\\xbe\\x8b\\xe5\\xb8\\x88'"
      ]
     },
     "execution_count": 36,
     "metadata": {},
     "output_type": "execute_result"
    }
   ],
   "source": [
    "ner_str.encode('utf8')"
   ]
  },
  {
   "cell_type": "code",
   "execution_count": 39,
   "metadata": {
    "collapsed": true
   },
   "outputs": [],
   "source": [
    "seg_word = wdseg(ner_str,'lst')"
   ]
  },
  {
   "cell_type": "code",
   "execution_count": 40,
   "metadata": {},
   "outputs": [
    {
     "data": {
      "text/plain": [
       "['\\xe8\\xbe\\xa9\\xe6\\x8a\\xa4\\xe4\\xba\\xba',\n",
       " '\\xe4\\xbe\\xaf\\xe5\\xbb\\xba\\xe5\\x86\\x9b',\n",
       " '\\xe7\\x8e\\x8b\\xe4\\xbc\\x97\\xe6\\x98\\x9f',\n",
       " '\\xe5\\x8c\\x97\\xe4\\xba\\xac\\xe5\\xb8\\x82',\n",
       " '\\xe9\\x87\\x8d\\xe5\\x8d\\x8e',\n",
       " '\\xe5\\xbe\\x8b\\xe5\\xb8\\x88',\n",
       " '\\xe4\\xba\\x8b\\xe5\\x8a\\xa1\\xe6\\x89\\x80',\n",
       " '\\xe5\\xbe\\x8b\\xe5\\xb8\\x88']"
      ]
     },
     "execution_count": 40,
     "metadata": {},
     "output_type": "execute_result"
    }
   ],
   "source": [
    "seg_word"
   ]
  },
  {
   "cell_type": "code",
   "execution_count": 41,
   "metadata": {
    "collapsed": true
   },
   "outputs": [],
   "source": [
    "postags = postagger.postag(seg_word)\n",
    "postag_list= '\\t'.join(postags).split('\\t')"
   ]
  },
  {
   "cell_type": "code",
   "execution_count": 42,
   "metadata": {},
   "outputs": [
    {
     "data": {
      "text/plain": [
       "['n', 'nh', 'nh', 'ns', 'nz', 'n', 'n', 'n']"
      ]
     },
     "execution_count": 42,
     "metadata": {},
     "output_type": "execute_result"
    }
   ],
   "source": [
    "postag_list"
   ]
  },
  {
   "cell_type": "code",
   "execution_count": 46,
   "metadata": {
    "collapsed": true
   },
   "outputs": [],
   "source": [
    "netags = recognizer.recognize(seg_word, postag_list)  # 命名实体识别\n",
    "print '\\t'.join(netags)\n"
   ]
  },
  {
   "cell_type": "code",
   "execution_count": 47,
   "metadata": {
    "collapsed": true
   },
   "outputs": [],
   "source": [
    "words = '\\t'.join(seg_word)\n",
    "print words"
   ]
  },
  {
   "cell_type": "code",
   "execution_count": 48,
   "metadata": {
    "collapsed": true
   },
   "outputs": [],
   "source": [
    "from nltk.tag import StanfordNERTagger"
   ]
  },
  {
   "cell_type": "code",
   "execution_count": null,
   "metadata": {
    "collapsed": true
   },
   "outputs": [],
   "source": []
  }
 ],
 "metadata": {
  "kernelspec": {
   "display_name": "Python 2",
   "language": "python",
   "name": "python2"
  },
  "language_info": {
   "codemirror_mode": {
    "name": "ipython",
    "version": 2
   },
   "file_extension": ".py",
   "mimetype": "text/x-python",
   "name": "python",
   "nbconvert_exporter": "python",
   "pygments_lexer": "ipython2",
   "version": "2.7.6"
  }
 },
 "nbformat": 4,
 "nbformat_minor": 2
}
